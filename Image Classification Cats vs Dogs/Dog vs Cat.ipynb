{
 "cells": [
  {
   "cell_type": "code",
   "execution_count": 72,
   "id": "6d8a0056",
   "metadata": {},
   "outputs": [],
   "source": [
    "import os\n",
    "import numpy as np\n",
    "import pandas as pd\n",
    "import pickle\n",
    "\n",
    "import tensorflow as tf\n",
    "from tensorflow.keras import Sequential\n",
    "from tensorflow.keras.layers import Dense, Flatten, Dropout, Conv2D, MaxPooling2D\n",
    "from tensorflow.keras.regularizers import l2\n",
    "from keras import optimizers\n",
    "\n",
    "import cv2\n",
    "import matplotlib.pyplot as plt\n",
    "import seaborn as sns\n",
    "\n",
    "from sklearn.model_selection import train_test_split\n",
    "from sklearn.metrics import confusion_matrix"
   ]
  },
  {
   "cell_type": "code",
   "execution_count": 29,
   "id": "4be0caf4",
   "metadata": {},
   "outputs": [],
   "source": [
    "\n",
    "X = []\n",
    "y = []\n",
    "\n",
    "def label(category):\n",
    "    if category == 'dog':\n",
    "        return 1\n",
    "    else:\n",
    "        return 0\n",
    "\n",
    "for p in os.listdir(r\"train/\"):\n",
    "    category = p.split(\".\")[0]\n",
    "    cat = label(category)\n",
    "    img = cv2.imread(os.path.join(\"train/\", p), cv2.IMREAD_GRAYSCALE)\n",
    "    imgResize = cv2.resize(img, dsize = (80, 80))\n",
    "    X.append(imgResize)\n",
    "    y.append(cat)"
   ]
  },
  {
   "cell_type": "code",
   "execution_count": 45,
   "id": "2bb5daaf",
   "metadata": {},
   "outputs": [],
   "source": [
    "X = np.array(X).reshape(-1,80,80,1)\n",
    "y = np.array(y)\n",
    "\n",
    "X = X / 255"
   ]
  },
  {
   "cell_type": "code",
   "execution_count": 48,
   "id": "fafd79e7",
   "metadata": {},
   "outputs": [],
   "source": [
    "X_train, X_val, y_train, y_val = train_test_split(X, y, test_size=0.2, random_state=40)"
   ]
  },
  {
   "cell_type": "code",
   "execution_count": 50,
   "id": "164858ec",
   "metadata": {},
   "outputs": [
    {
     "data": {
      "text/plain": [
       "((20000, 80, 80, 1), (5000, 80, 80, 1), (20000,), (5000,))"
      ]
     },
     "execution_count": 50,
     "metadata": {},
     "output_type": "execute_result"
    }
   ],
   "source": [
    "X_train.shape, X_val.shape, y_train.shape, y_val.shape"
   ]
  },
  {
   "cell_type": "code",
   "execution_count": 57,
   "id": "3647cda3",
   "metadata": {},
   "outputs": [],
   "source": [
    "model = Sequential()\n",
    "model.add(Conv2D(32, (3, 3), activation='relu', input_shape=(80, 80, 1)))\n",
    "model.add(Conv2D(32, (3, 3), activation='relu'))\n",
    "model.add(MaxPooling2D((3, 3)))\n",
    "model.add(Conv2D(64, (3, 3), activation='relu'))\n",
    "model.add(Conv2D(64, (3, 3), activation='relu'))\n",
    "model.add(MaxPooling2D((3, 3)))\n",
    "model.add(Conv2D(64, (3, 3), activation='relu'))\n",
    "model.add(MaxPooling2D((3, 3), strides=2))\n",
    "model.add(Flatten())\n",
    "model.add(Dense(128, activation = \"relu\", kernel_regularizer = l2(0.001)))\n",
    "model.add(Dropout(0.5))\n",
    "model.add(Dense(1, activation='sigmoid'))\n",
    "\n",
    "model.compile(optimizer = \"adam\", loss = \"binary_crossentropy\", metrics = [\"accuracy\"])"
   ]
  },
  {
   "cell_type": "code",
   "execution_count": 69,
   "id": "aaca04c2",
   "metadata": {},
   "outputs": [
    {
     "name": "stdout",
     "output_type": "stream",
     "text": [
      "Epoch 1/30\n",
      "79/79 [==============================] - 188s 2s/step - loss: 0.7585 - accuracy: 0.5159 - val_loss: 0.6988 - val_accuracy: 0.4976\n",
      "Epoch 2/30\n",
      "79/79 [==============================] - 208s 3s/step - loss: 0.6704 - accuracy: 0.5978 - val_loss: 0.6564 - val_accuracy: 0.6250\n",
      "Epoch 3/30\n",
      "79/79 [==============================] - 216s 3s/step - loss: 0.6365 - accuracy: 0.6521 - val_loss: 0.6193 - val_accuracy: 0.6710\n",
      "Epoch 4/30\n",
      "79/79 [==============================] - 224s 3s/step - loss: 0.6115 - accuracy: 0.6802 - val_loss: 0.6952 - val_accuracy: 0.6230\n",
      "Epoch 5/30\n",
      "79/79 [==============================] - 219s 3s/step - loss: 0.5818 - accuracy: 0.7082 - val_loss: 0.5351 - val_accuracy: 0.7528\n",
      "Epoch 6/30\n",
      "79/79 [==============================] - 222s 3s/step - loss: 0.5341 - accuracy: 0.7494 - val_loss: 0.5178 - val_accuracy: 0.7648\n",
      "Epoch 7/30\n",
      "79/79 [==============================] - 217s 3s/step - loss: 0.4917 - accuracy: 0.7788 - val_loss: 0.6260 - val_accuracy: 0.6912\n",
      "Epoch 8/30\n",
      "79/79 [==============================] - 222s 3s/step - loss: 0.4852 - accuracy: 0.7828 - val_loss: 0.4328 - val_accuracy: 0.8112\n",
      "Epoch 9/30\n",
      "79/79 [==============================] - 212s 3s/step - loss: 0.4444 - accuracy: 0.8065 - val_loss: 0.4450 - val_accuracy: 0.8074\n",
      "Epoch 10/30\n",
      "79/79 [==============================] - 216s 3s/step - loss: 0.4277 - accuracy: 0.8156 - val_loss: 0.4525 - val_accuracy: 0.8110\n",
      "Epoch 11/30\n",
      "79/79 [==============================] - 217s 3s/step - loss: 0.4093 - accuracy: 0.8274 - val_loss: 0.3633 - val_accuracy: 0.8462\n",
      "Epoch 12/30\n",
      "79/79 [==============================] - 217s 3s/step - loss: 0.3848 - accuracy: 0.8386 - val_loss: 0.3541 - val_accuracy: 0.8510\n",
      "Epoch 13/30\n",
      "79/79 [==============================] - 211s 3s/step - loss: 0.3809 - accuracy: 0.8453 - val_loss: 0.3390 - val_accuracy: 0.8606\n",
      "Epoch 14/30\n",
      "79/79 [==============================] - 241s 3s/step - loss: 0.3493 - accuracy: 0.8597 - val_loss: 0.3678 - val_accuracy: 0.8474\n",
      "Epoch 15/30\n",
      "79/79 [==============================] - 235s 3s/step - loss: 0.3402 - accuracy: 0.8614 - val_loss: 0.3232 - val_accuracy: 0.8696\n",
      "Epoch 16/30\n",
      "79/79 [==============================] - 217s 3s/step - loss: 0.3545 - accuracy: 0.8558 - val_loss: 0.3434 - val_accuracy: 0.8596\n",
      "Epoch 17/30\n",
      "79/79 [==============================] - 208s 3s/step - loss: 0.3308 - accuracy: 0.8676 - val_loss: 0.2948 - val_accuracy: 0.8872\n",
      "Epoch 18/30\n",
      "79/79 [==============================] - 215s 3s/step - loss: 0.3087 - accuracy: 0.8775 - val_loss: 0.3013 - val_accuracy: 0.8810\n",
      "Epoch 19/30\n",
      "79/79 [==============================] - 205s 3s/step - loss: 0.3144 - accuracy: 0.8776 - val_loss: 0.2937 - val_accuracy: 0.8840\n",
      "Epoch 20/30\n",
      "79/79 [==============================] - 197s 2s/step - loss: 0.2976 - accuracy: 0.8824 - val_loss: 0.2963 - val_accuracy: 0.8818\n",
      "Epoch 21/30\n",
      "79/79 [==============================] - 201s 3s/step - loss: 0.2826 - accuracy: 0.8896 - val_loss: 0.2768 - val_accuracy: 0.8924\n",
      "Epoch 22/30\n",
      "79/79 [==============================] - 200s 3s/step - loss: 0.2942 - accuracy: 0.8850 - val_loss: 0.2863 - val_accuracy: 0.8870\n",
      "Epoch 23/30\n",
      "79/79 [==============================] - 194s 2s/step - loss: 0.2782 - accuracy: 0.8932 - val_loss: 0.2695 - val_accuracy: 0.8934\n",
      "Epoch 24/30\n",
      "79/79 [==============================] - 193s 2s/step - loss: 0.2681 - accuracy: 0.8979 - val_loss: 0.2660 - val_accuracy: 0.8998\n",
      "Epoch 25/30\n",
      "79/79 [==============================] - 198s 3s/step - loss: 0.2577 - accuracy: 0.9053 - val_loss: 0.2569 - val_accuracy: 0.8994\n",
      "Epoch 26/30\n",
      "79/79 [==============================] - 196s 2s/step - loss: 0.2560 - accuracy: 0.9040 - val_loss: 0.2481 - val_accuracy: 0.9030\n",
      "Epoch 27/30\n",
      "79/79 [==============================] - 195s 2s/step - loss: 0.2592 - accuracy: 0.9036 - val_loss: 0.2724 - val_accuracy: 0.9002\n",
      "Epoch 28/30\n",
      "79/79 [==============================] - 197s 2s/step - loss: 0.2536 - accuracy: 0.9062 - val_loss: 0.2590 - val_accuracy: 0.9010\n",
      "Epoch 29/30\n",
      "79/79 [==============================] - 195s 2s/step - loss: 0.2380 - accuracy: 0.9135 - val_loss: 0.2438 - val_accuracy: 0.9098\n",
      "Epoch 30/30\n",
      "79/79 [==============================] - 196s 2s/step - loss: 0.2372 - accuracy: 0.9128 - val_loss: 0.2452 - val_accuracy: 0.9070\n"
     ]
    }
   ],
   "source": [
    "history = model.fit(X_train, y_train, batch_size = 256, epochs = 30, verbose = 1, validation_data = (X_val, y_val))"
   ]
  },
  {
   "cell_type": "code",
   "execution_count": 70,
   "id": "6c6d9f87",
   "metadata": {},
   "outputs": [
    {
     "name": "stdout",
     "output_type": "stream",
     "text": [
      "157/157 [==============================] - 15s 94ms/step - loss: 0.2452 - accuracy: 0.9070\n",
      "Accuracy: 90.70\n"
     ]
    }
   ],
   "source": [
    "_, accuracy = model.evaluate(X_val, y_val)\n",
    "print(\"Accuracy: %.2f\" % (accuracy*100))"
   ]
  },
  {
   "cell_type": "code",
   "execution_count": 71,
   "id": "009b4259",
   "metadata": {},
   "outputs": [
    {
     "data": {
      "image/png": "[encoded data removed]",
      "text/plain": [
       "<Figure size 432x288 with 1 Axes>"
      ]
     },
     "metadata": {
      "needs_background": "light"
     },
     "output_type": "display_data"
    },
    {
     "data": {
      "image/png": "[encoded data removed]",
      "text/plain": [
       "<Figure size 432x288 with 1 Axes>"
      ]
     },
     "metadata": {
      "needs_background": "light"
     },
     "output_type": "display_data"
    }
   ],
   "source": [
    "plt.plot(history.history[\"accuracy\"])\n",
    "plt.plot(history.history[\"val_accuracy\"])\n",
    "plt.title(\"Model accuracy\")\n",
    "plt.ylabel(\"Accuracy\")\n",
    "plt.xlabel(\"Epoch\")\n",
    "plt.legend([\"Train\", \"Test\"], loc = \"upper left\")\n",
    "plt.show()\n",
    "\n",
    "plt.plot(history.history[\"loss\"])\n",
    "plt.plot(history.history[\"val_loss\"])\n",
    "plt.title(\"Model loss\")\n",
    "plt.ylabel(\"Loss\")\n",
    "plt.xlabel(\"Epoch\")\n",
    "plt.legend([\"Train\", \"Test\"], loc = \"upper left\")\n",
    "plt.show()"
   ]
  },
  {
   "cell_type": "code",
   "execution_count": null,
   "id": "cf85b5ed",
   "metadata": {},
   "outputs": [],
   "source": []
  }
 ],
 "metadata": {
  "kernelspec": {
   "display_name": "Python 3",
   "language": "python",
   "name": "python3"
  },
  "language_info": {
   "codemirror_mode": {
    "name": "ipython",
    "version": 3
   },
   "file_extension": ".py",
   "mimetype": "text/x-python",
   "name": "python",
   "nbconvert_exporter": "python",
   "pygments_lexer": "ipython3",
   "version": "3.9.6"
  }
 },
 "nbformat": 4,
 "nbformat_minor": 5
}
