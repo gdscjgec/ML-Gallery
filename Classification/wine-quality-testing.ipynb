{
 "cells": [
  {
   "cell_type": "markdown",
   "metadata": {
    "papermill": {
     "duration": 0.05737,
     "end_time": "2021-10-04T07:32:30.742972",
     "exception": false,
     "start_time": "2021-10-04T07:32:30.685602",
     "status": "completed"
    },
    "tags": []
   },
   "source": [
    "<img src=\"https://c1.staticflickr.com/5/4124/5096953439_5a41df8055_b.jpg\"  align=center>"
   ]
  },
  {
   "cell_type": "code",
   "execution_count": 1,
   "metadata": {
    "_cell_guid": "b1076dfc-b9ad-4769-8c92-a6c4dae69d19",
    "_uuid": "8f2839f25d086af736a60e9eeb907d3b93b6e0e5",
    "execution": {
     "iopub.execute_input": "2021-10-04T07:32:30.854956Z",
     "iopub.status.busy": "2021-10-04T07:32:30.854214Z",
     "iopub.status.idle": "2021-10-04T07:32:30.870066Z",
     "shell.execute_reply": "2021-10-04T07:32:30.870765Z",
     "shell.execute_reply.started": "2021-10-04T07:08:01.749424Z"
    },
    "papermill": {
     "duration": 0.074417,
     "end_time": "2021-10-04T07:32:30.871484",
     "exception": false,
     "start_time": "2021-10-04T07:32:30.797067",
     "status": "completed"
    },
    "tags": []
   },
   "outputs": [
    {
     "name": "stdout",
     "output_type": "stream",
     "text": [
      "/kaggle/input/cusersmarildownloadswinecsv/wine.csv\n"
     ]
    }
   ],
   "source": [
    "# This Python 3 environment comes with many helpful analytics libraries installed\n",
    "# It is defined by the kaggle/python Docker image: https://github.com/kaggle/docker-python\n",
    "# For example, here's several helpful packages to load\n",
    "\n",
    "import numpy as np # linear algebra\n",
    "import pandas as pd # data processing, CSV file I/O (e.g. pd.read_csv)\n",
    "\n",
    "# Input data files are available in the read-only \"../input/\" directory\n",
    "# For example, running this (by clicking run or pressing Shift+Enter) will list all files under the input directory\n",
    "\n",
    "import os\n",
    "for dirname, _, filenames in os.walk('/kaggle/input'):\n",
    "    for filename in filenames:\n",
    "        print(os.path.join(dirname, filename))\n",
    "\n",
    "# You can write up to 20GB to the current directory (/kaggle/working/) that gets preserved as output when you create a version using \"Save & Run All\" \n",
    "# You can also write temporary files to /kaggle/temp/, but they won't be saved outside of the current session"
   ]
  },
  {
   "cell_type": "code",
   "execution_count": 2,
   "metadata": {
    "execution": {
     "iopub.execute_input": "2021-10-04T07:32:30.987922Z",
     "iopub.status.busy": "2021-10-04T07:32:30.987237Z",
     "iopub.status.idle": "2021-10-04T07:32:31.012047Z",
     "shell.execute_reply": "2021-10-04T07:32:31.011335Z",
     "shell.execute_reply.started": "2021-10-04T07:08:01.772661Z"
    },
    "papermill": {
     "duration": 0.084634,
     "end_time": "2021-10-04T07:32:31.012198",
     "exception": false,
     "start_time": "2021-10-04T07:32:30.927564",
     "status": "completed"
    },
    "tags": []
   },
   "outputs": [],
   "source": [
    "data=pd.read_csv('/kaggle/input/cusersmarildownloadswinecsv//wine.csv',sep=\";\") \n",
    "#Loading Data from kaggle"
   ]
  },
  {
   "cell_type": "markdown",
   "metadata": {
    "papermill": {
     "duration": 0.055761,
     "end_time": "2021-10-04T07:32:31.122881",
     "exception": false,
     "start_time": "2021-10-04T07:32:31.067120",
     "status": "completed"
    },
    "tags": []
   },
   "source": [
    "## Basic Data Summary"
   ]
  },
  {
   "cell_type": "code",
   "execution_count": 3,
   "metadata": {
    "execution": {
     "iopub.execute_input": "2021-10-04T07:32:31.255323Z",
     "iopub.status.busy": "2021-10-04T07:32:31.254290Z",
     "iopub.status.idle": "2021-10-04T07:32:31.295498Z",
     "shell.execute_reply": "2021-10-04T07:32:31.296046Z",
     "shell.execute_reply.started": "2021-10-04T07:08:01.804064Z"
    },
    "papermill": {
     "duration": 0.112826,
     "end_time": "2021-10-04T07:32:31.296253",
     "exception": false,
     "start_time": "2021-10-04T07:32:31.183427",
     "status": "completed"
    },
    "tags": []
   },
   "outputs": [
    {
     "data": {
      "text/html": [
       "<div>\n",
       "<style scoped>\n",
       "    .dataframe tbody tr th:only-of-type {\n",
       "        vertical-align: middle;\n",
       "    }\n",
       "\n",
       "    .dataframe tbody tr th {\n",
       "        vertical-align: top;\n",
       "    }\n",
       "\n",
       "    .dataframe thead th {\n",
       "        text-align: right;\n",
       "    }\n",
       "</style>\n",
       "<table border=\"1\" class=\"dataframe\">\n",
       "  <thead>\n",
       "    <tr style=\"text-align: right;\">\n",
       "      <th></th>\n",
       "      <th>fixed_acidity</th>\n",
       "      <th>volatile_acidity</th>\n",
       "      <th>citric_acid</th>\n",
       "      <th>residual_sugar</th>\n",
       "      <th>chlorides</th>\n",
       "      <th>free_sulfur_dioxide</th>\n",
       "      <th>total_sulfur_dioxide</th>\n",
       "      <th>density</th>\n",
       "      <th>pH</th>\n",
       "      <th>sulphates</th>\n",
       "      <th>alcohol</th>\n",
       "      <th>quality</th>\n",
       "    </tr>\n",
       "  </thead>\n",
       "  <tbody>\n",
       "    <tr>\n",
       "      <th>0</th>\n",
       "      <td>7.5</td>\n",
       "      <td>0.33</td>\n",
       "      <td>0.32</td>\n",
       "      <td>11.1</td>\n",
       "      <td>0.036</td>\n",
       "      <td>25.0</td>\n",
       "      <td>119.0</td>\n",
       "      <td>0.99620</td>\n",
       "      <td>3.15</td>\n",
       "      <td>0.34</td>\n",
       "      <td>10.5</td>\n",
       "      <td>6</td>\n",
       "    </tr>\n",
       "    <tr>\n",
       "      <th>1</th>\n",
       "      <td>6.3</td>\n",
       "      <td>0.27</td>\n",
       "      <td>0.29</td>\n",
       "      <td>12.2</td>\n",
       "      <td>0.044</td>\n",
       "      <td>59.0</td>\n",
       "      <td>196.0</td>\n",
       "      <td>0.99782</td>\n",
       "      <td>3.14</td>\n",
       "      <td>0.40</td>\n",
       "      <td>8.8</td>\n",
       "      <td>6</td>\n",
       "    </tr>\n",
       "    <tr>\n",
       "      <th>2</th>\n",
       "      <td>7.0</td>\n",
       "      <td>0.30</td>\n",
       "      <td>0.51</td>\n",
       "      <td>13.6</td>\n",
       "      <td>0.050</td>\n",
       "      <td>40.0</td>\n",
       "      <td>168.0</td>\n",
       "      <td>0.99760</td>\n",
       "      <td>3.07</td>\n",
       "      <td>0.52</td>\n",
       "      <td>9.6</td>\n",
       "      <td>7</td>\n",
       "    </tr>\n",
       "    <tr>\n",
       "      <th>3</th>\n",
       "      <td>7.4</td>\n",
       "      <td>0.38</td>\n",
       "      <td>0.27</td>\n",
       "      <td>7.5</td>\n",
       "      <td>0.041</td>\n",
       "      <td>24.0</td>\n",
       "      <td>160.0</td>\n",
       "      <td>0.99535</td>\n",
       "      <td>3.17</td>\n",
       "      <td>0.43</td>\n",
       "      <td>10</td>\n",
       "      <td>5</td>\n",
       "    </tr>\n",
       "    <tr>\n",
       "      <th>4</th>\n",
       "      <td>8.1</td>\n",
       "      <td>0.12</td>\n",
       "      <td>0.38</td>\n",
       "      <td>0.9</td>\n",
       "      <td>0.034</td>\n",
       "      <td>36.0</td>\n",
       "      <td>86.0</td>\n",
       "      <td>0.99026</td>\n",
       "      <td>2.80</td>\n",
       "      <td>0.55</td>\n",
       "      <td>12</td>\n",
       "      <td>6</td>\n",
       "    </tr>\n",
       "  </tbody>\n",
       "</table>\n",
       "</div>"
      ],
      "text/plain": [
       "   fixed_acidity  volatile_acidity  citric_acid  residual_sugar  chlorides  \\\n",
       "0            7.5              0.33         0.32            11.1      0.036   \n",
       "1            6.3              0.27         0.29            12.2      0.044   \n",
       "2            7.0              0.30         0.51            13.6      0.050   \n",
       "3            7.4              0.38         0.27             7.5      0.041   \n",
       "4            8.1              0.12         0.38             0.9      0.034   \n",
       "\n",
       "   free_sulfur_dioxide  total_sulfur_dioxide  density    pH  sulphates  \\\n",
       "0                 25.0                 119.0  0.99620  3.15       0.34   \n",
       "1                 59.0                 196.0  0.99782  3.14       0.40   \n",
       "2                 40.0                 168.0  0.99760  3.07       0.52   \n",
       "3                 24.0                 160.0  0.99535  3.17       0.43   \n",
       "4                 36.0                  86.0  0.99026  2.80       0.55   \n",
       "\n",
       "  alcohol  quality  \n",
       "0    10.5        6  \n",
       "1     8.8        6  \n",
       "2     9.6        7  \n",
       "3      10        5  \n",
       "4      12        6  "
      ]
     },
     "execution_count": 3,
     "metadata": {},
     "output_type": "execute_result"
    }
   ],
   "source": [
    "data.head()"
   ]
  },
  {
   "cell_type": "code",
   "execution_count": 4,
   "metadata": {
    "execution": {
     "iopub.execute_input": "2021-10-04T07:32:31.422952Z",
     "iopub.status.busy": "2021-10-04T07:32:31.422232Z",
     "iopub.status.idle": "2021-10-04T07:32:31.446934Z",
     "shell.execute_reply": "2021-10-04T07:32:31.447546Z",
     "shell.execute_reply.started": "2021-10-04T07:08:01.846017Z"
    },
    "papermill": {
     "duration": 0.096611,
     "end_time": "2021-10-04T07:32:31.447736",
     "exception": false,
     "start_time": "2021-10-04T07:32:31.351125",
     "status": "completed"
    },
    "tags": []
   },
   "outputs": [
    {
     "name": "stdout",
     "output_type": "stream",
     "text": [
      "<class 'pandas.core.frame.DataFrame'>\n",
      "RangeIndex: 2037 entries, 0 to 2036\n",
      "Data columns (total 12 columns):\n",
      " #   Column                Non-Null Count  Dtype  \n",
      "---  ------                --------------  -----  \n",
      " 0   fixed_acidity         2037 non-null   float64\n",
      " 1   volatile_acidity      2037 non-null   float64\n",
      " 2   citric_acid           2037 non-null   float64\n",
      " 3   residual_sugar        2037 non-null   float64\n",
      " 4   chlorides             2037 non-null   float64\n",
      " 5   free_sulfur_dioxide   2037 non-null   float64\n",
      " 6   total_sulfur_dioxide  2037 non-null   float64\n",
      " 7   density               2037 non-null   float64\n",
      " 8   pH                    2037 non-null   float64\n",
      " 9   sulphates             2037 non-null   float64\n",
      " 10  alcohol               2037 non-null   object \n",
      " 11  quality               2037 non-null   int64  \n",
      "dtypes: float64(10), int64(1), object(1)\n",
      "memory usage: 191.1+ KB\n"
     ]
    }
   ],
   "source": [
    "data.info(verbose=True)   "
   ]
  },
  {
   "cell_type": "code",
   "execution_count": 5,
   "metadata": {
    "execution": {
     "iopub.execute_input": "2021-10-04T07:32:31.567185Z",
     "iopub.status.busy": "2021-10-04T07:32:31.566218Z",
     "iopub.status.idle": "2021-10-04T07:32:31.573371Z",
     "shell.execute_reply": "2021-10-04T07:32:31.573889Z",
     "shell.execute_reply.started": "2021-10-04T07:08:01.867879Z"
    },
    "papermill": {
     "duration": 0.069123,
     "end_time": "2021-10-04T07:32:31.574096",
     "exception": false,
     "start_time": "2021-10-04T07:32:31.504973",
     "status": "completed"
    },
    "tags": []
   },
   "outputs": [],
   "source": [
    "data['alcohol'] = pd.to_numeric(data['alcohol'],errors='coerce')"
   ]
  },
  {
   "cell_type": "code",
   "execution_count": 6,
   "metadata": {
    "execution": {
     "iopub.execute_input": "2021-10-04T07:32:31.687878Z",
     "iopub.status.busy": "2021-10-04T07:32:31.686953Z",
     "iopub.status.idle": "2021-10-04T07:32:31.738186Z",
     "shell.execute_reply": "2021-10-04T07:32:31.737473Z",
     "shell.execute_reply.started": "2021-10-04T07:08:01.879342Z"
    },
    "papermill": {
     "duration": 0.109328,
     "end_time": "2021-10-04T07:32:31.738370",
     "exception": false,
     "start_time": "2021-10-04T07:32:31.629042",
     "status": "completed"
    },
    "tags": []
   },
   "outputs": [
    {
     "data": {
      "text/html": [
       "<div>\n",
       "<style scoped>\n",
       "    .dataframe tbody tr th:only-of-type {\n",
       "        vertical-align: middle;\n",
       "    }\n",
       "\n",
       "    .dataframe tbody tr th {\n",
       "        vertical-align: top;\n",
       "    }\n",
       "\n",
       "    .dataframe thead th {\n",
       "        text-align: right;\n",
       "    }\n",
       "</style>\n",
       "<table border=\"1\" class=\"dataframe\">\n",
       "  <thead>\n",
       "    <tr style=\"text-align: right;\">\n",
       "      <th></th>\n",
       "      <th>fixed_acidity</th>\n",
       "      <th>volatile_acidity</th>\n",
       "      <th>citric_acid</th>\n",
       "      <th>residual_sugar</th>\n",
       "      <th>chlorides</th>\n",
       "      <th>free_sulfur_dioxide</th>\n",
       "      <th>total_sulfur_dioxide</th>\n",
       "      <th>density</th>\n",
       "      <th>pH</th>\n",
       "      <th>sulphates</th>\n",
       "      <th>alcohol</th>\n",
       "      <th>quality</th>\n",
       "    </tr>\n",
       "  </thead>\n",
       "  <tbody>\n",
       "    <tr>\n",
       "      <th>count</th>\n",
       "      <td>2037.000000</td>\n",
       "      <td>2037.000000</td>\n",
       "      <td>2037.000000</td>\n",
       "      <td>2037.000000</td>\n",
       "      <td>2037.000000</td>\n",
       "      <td>2037.000000</td>\n",
       "      <td>2037.000000</td>\n",
       "      <td>2037.000000</td>\n",
       "      <td>2037.000000</td>\n",
       "      <td>2037.000000</td>\n",
       "      <td>2020.000000</td>\n",
       "      <td>2037.000000</td>\n",
       "    </tr>\n",
       "    <tr>\n",
       "      <th>mean</th>\n",
       "      <td>6.825626</td>\n",
       "      <td>0.266568</td>\n",
       "      <td>0.323201</td>\n",
       "      <td>6.277590</td>\n",
       "      <td>0.042211</td>\n",
       "      <td>34.718949</td>\n",
       "      <td>136.945508</td>\n",
       "      <td>1.586169</td>\n",
       "      <td>3.186348</td>\n",
       "      <td>0.481055</td>\n",
       "      <td>10.596371</td>\n",
       "      <td>5.929799</td>\n",
       "    </tr>\n",
       "    <tr>\n",
       "      <th>std</th>\n",
       "      <td>0.753302</td>\n",
       "      <td>0.076738</td>\n",
       "      <td>0.094378</td>\n",
       "      <td>4.867284</td>\n",
       "      <td>0.009973</td>\n",
       "      <td>15.215444</td>\n",
       "      <td>41.424123</td>\n",
       "      <td>7.292762</td>\n",
       "      <td>0.138701</td>\n",
       "      <td>0.098560</td>\n",
       "      <td>1.224946</td>\n",
       "      <td>0.845931</td>\n",
       "    </tr>\n",
       "    <tr>\n",
       "      <th>min</th>\n",
       "      <td>4.400000</td>\n",
       "      <td>0.080000</td>\n",
       "      <td>0.000000</td>\n",
       "      <td>0.700000</td>\n",
       "      <td>0.012000</td>\n",
       "      <td>3.000000</td>\n",
       "      <td>21.000000</td>\n",
       "      <td>0.987110</td>\n",
       "      <td>2.790000</td>\n",
       "      <td>0.220000</td>\n",
       "      <td>8.400000</td>\n",
       "      <td>3.000000</td>\n",
       "    </tr>\n",
       "    <tr>\n",
       "      <th>25%</th>\n",
       "      <td>6.300000</td>\n",
       "      <td>0.210000</td>\n",
       "      <td>0.270000</td>\n",
       "      <td>1.700000</td>\n",
       "      <td>0.035000</td>\n",
       "      <td>24.000000</td>\n",
       "      <td>107.000000</td>\n",
       "      <td>0.991520</td>\n",
       "      <td>3.090000</td>\n",
       "      <td>0.410000</td>\n",
       "      <td>9.500000</td>\n",
       "      <td>5.000000</td>\n",
       "    </tr>\n",
       "    <tr>\n",
       "      <th>50%</th>\n",
       "      <td>6.800000</td>\n",
       "      <td>0.260000</td>\n",
       "      <td>0.310000</td>\n",
       "      <td>5.300000</td>\n",
       "      <td>0.042000</td>\n",
       "      <td>34.000000</td>\n",
       "      <td>133.000000</td>\n",
       "      <td>0.993500</td>\n",
       "      <td>3.180000</td>\n",
       "      <td>0.470000</td>\n",
       "      <td>10.500000</td>\n",
       "      <td>6.000000</td>\n",
       "    </tr>\n",
       "    <tr>\n",
       "      <th>75%</th>\n",
       "      <td>7.300000</td>\n",
       "      <td>0.310000</td>\n",
       "      <td>0.380000</td>\n",
       "      <td>9.400000</td>\n",
       "      <td>0.049000</td>\n",
       "      <td>45.000000</td>\n",
       "      <td>166.000000</td>\n",
       "      <td>0.995800</td>\n",
       "      <td>3.280000</td>\n",
       "      <td>0.540000</td>\n",
       "      <td>11.450000</td>\n",
       "      <td>6.000000</td>\n",
       "    </tr>\n",
       "    <tr>\n",
       "      <th>max</th>\n",
       "      <td>8.800000</td>\n",
       "      <td>0.485000</td>\n",
       "      <td>0.570000</td>\n",
       "      <td>20.800000</td>\n",
       "      <td>0.071000</td>\n",
       "      <td>78.000000</td>\n",
       "      <td>253.000000</td>\n",
       "      <td>100.196000</td>\n",
       "      <td>3.560000</td>\n",
       "      <td>0.760000</td>\n",
       "      <td>14.200000</td>\n",
       "      <td>9.000000</td>\n",
       "    </tr>\n",
       "  </tbody>\n",
       "</table>\n",
       "</div>"
      ],
      "text/plain": [
       "       fixed_acidity  volatile_acidity  citric_acid  residual_sugar  \\\n",
       "count    2037.000000       2037.000000  2037.000000     2037.000000   \n",
       "mean        6.825626          0.266568     0.323201        6.277590   \n",
       "std         0.753302          0.076738     0.094378        4.867284   \n",
       "min         4.400000          0.080000     0.000000        0.700000   \n",
       "25%         6.300000          0.210000     0.270000        1.700000   \n",
       "50%         6.800000          0.260000     0.310000        5.300000   \n",
       "75%         7.300000          0.310000     0.380000        9.400000   \n",
       "max         8.800000          0.485000     0.570000       20.800000   \n",
       "\n",
       "         chlorides  free_sulfur_dioxide  total_sulfur_dioxide      density  \\\n",
       "count  2037.000000          2037.000000           2037.000000  2037.000000   \n",
       "mean      0.042211            34.718949            136.945508     1.586169   \n",
       "std       0.009973            15.215444             41.424123     7.292762   \n",
       "min       0.012000             3.000000             21.000000     0.987110   \n",
       "25%       0.035000            24.000000            107.000000     0.991520   \n",
       "50%       0.042000            34.000000            133.000000     0.993500   \n",
       "75%       0.049000            45.000000            166.000000     0.995800   \n",
       "max       0.071000            78.000000            253.000000   100.196000   \n",
       "\n",
       "                pH    sulphates      alcohol      quality  \n",
       "count  2037.000000  2037.000000  2020.000000  2037.000000  \n",
       "mean      3.186348     0.481055    10.596371     5.929799  \n",
       "std       0.138701     0.098560     1.224946     0.845931  \n",
       "min       2.790000     0.220000     8.400000     3.000000  \n",
       "25%       3.090000     0.410000     9.500000     5.000000  \n",
       "50%       3.180000     0.470000    10.500000     6.000000  \n",
       "75%       3.280000     0.540000    11.450000     6.000000  \n",
       "max       3.560000     0.760000    14.200000     9.000000  "
      ]
     },
     "execution_count": 6,
     "metadata": {},
     "output_type": "execute_result"
    }
   ],
   "source": [
    "data.describe()"
   ]
  },
  {
   "cell_type": "code",
   "execution_count": 7,
   "metadata": {
    "execution": {
     "iopub.execute_input": "2021-10-04T07:32:31.886993Z",
     "iopub.status.busy": "2021-10-04T07:32:31.886177Z",
     "iopub.status.idle": "2021-10-04T07:32:31.892923Z",
     "shell.execute_reply": "2021-10-04T07:32:31.892284Z",
     "shell.execute_reply.started": "2021-10-04T07:08:01.936262Z"
    },
    "papermill": {
     "duration": 0.07852,
     "end_time": "2021-10-04T07:32:31.893105",
     "exception": false,
     "start_time": "2021-10-04T07:32:31.814585",
     "status": "completed"
    },
    "tags": []
   },
   "outputs": [],
   "source": [
    "data['alcohol'].fillna(data['alcohol'].mean(), inplace = True)"
   ]
  },
  {
   "cell_type": "markdown",
   "metadata": {
    "papermill": {
     "duration": 0.05822,
     "end_time": "2021-10-04T07:32:32.009954",
     "exception": false,
     "start_time": "2021-10-04T07:32:31.951734",
     "status": "completed"
    },
    "tags": []
   },
   "source": [
    "## Data Visualization"
   ]
  },
  {
   "cell_type": "code",
   "execution_count": 8,
   "metadata": {
    "execution": {
     "iopub.execute_input": "2021-10-04T07:32:32.130317Z",
     "iopub.status.busy": "2021-10-04T07:32:32.129486Z",
     "iopub.status.idle": "2021-10-04T07:32:33.161401Z",
     "shell.execute_reply": "2021-10-04T07:32:33.160544Z",
     "shell.execute_reply.started": "2021-10-04T07:08:01.943362Z"
    },
    "papermill": {
     "duration": 1.09512,
     "end_time": "2021-10-04T07:32:33.161647",
     "exception": false,
     "start_time": "2021-10-04T07:32:32.066527",
     "status": "completed"
    },
    "tags": []
   },
   "outputs": [],
   "source": [
    "import matplotlib.pyplot as plt\n",
    "import seaborn as sns\n",
    "%matplotlib inline"
   ]
  },
  {
   "cell_type": "markdown",
   "metadata": {
    "papermill": {
     "duration": 0.063578,
     "end_time": "2021-10-04T07:32:33.315606",
     "exception": false,
     "start_time": "2021-10-04T07:32:33.252028",
     "status": "completed"
    },
    "tags": []
   },
   "source": [
    "### Boxplots for different feature variables across different categories of Quality"
   ]
  },
  {
   "cell_type": "code",
   "execution_count": 9,
   "metadata": {
    "execution": {
     "iopub.execute_input": "2021-10-04T07:32:33.457443Z",
     "iopub.status.busy": "2021-10-04T07:32:33.456757Z",
     "iopub.status.idle": "2021-10-04T07:32:33.739637Z",
     "shell.execute_reply": "2021-10-04T07:32:33.738050Z",
     "shell.execute_reply.started": "2021-10-04T07:08:02.785109Z"
    },
    "papermill": {
     "duration": 0.366388,
     "end_time": "2021-10-04T07:32:33.739919",
     "exception": false,
     "start_time": "2021-10-04T07:32:33.373531",
     "status": "completed"
    },
    "tags": []
   },
   "outputs": [
    {
     "data": {
      "text/plain": [
       "<AxesSubplot:xlabel='quality', ylabel='fixed_acidity'>"
      ]
     },
     "execution_count": 9,
     "metadata": {},
     "output_type": "execute_result"
    },
    {
     "data": {
      "image/png": "[encoded data removed]",
      "text/plain": [
       "<Figure size 720x576 with 1 Axes>"
      ]
     },
     "metadata": {
      "needs_background": "light"
     },
     "output_type": "display_data"
    }
   ],
   "source": [
    "fig, ax = plt.subplots(figsize=(10,8))\n",
    "sns.boxplot(x = \"quality\", y = \"fixed_acidity\",palette='rocket' ,ax=ax, data=data)  #Boxplot for Quality and Fixed Acidity"
   ]
  },
  {
   "cell_type": "code",
   "execution_count": 10,
   "metadata": {
    "execution": {
     "iopub.execute_input": "2021-10-04T07:32:33.991243Z",
     "iopub.status.busy": "2021-10-04T07:32:33.974328Z",
     "iopub.status.idle": "2021-10-04T07:32:34.256973Z",
     "shell.execute_reply": "2021-10-04T07:32:34.257497Z",
     "shell.execute_reply.started": "2021-10-04T07:08:03.064172Z"
    },
    "papermill": {
     "duration": 0.443449,
     "end_time": "2021-10-04T07:32:34.257690",
     "exception": false,
     "start_time": "2021-10-04T07:32:33.814241",
     "status": "completed"
    },
    "tags": []
   },
   "outputs": [
    {
     "data": {
      "text/plain": [
       "<AxesSubplot:xlabel='quality', ylabel='volatile_acidity'>"
      ]
     },
     "execution_count": 10,
     "metadata": {},
     "output_type": "execute_result"
    },
    {
     "data": {
      "image/png": "[encoded data removed]",
      "text/plain": [
       "<Figure size 720x576 with 1 Axes>"
      ]
     },
     "metadata": {
      "needs_background": "light"
     },
     "output_type": "display_data"
    }
   ],
   "source": [
    "fig, ax = plt.subplots(figsize=(10,8))\n",
    "sns.boxplot(x = \"quality\", y = \"volatile_acidity\",palette='rocket' , ax=ax, data=data)  #Boxplot for Quality and Volatile Acidity"
   ]
  },
  {
   "cell_type": "code",
   "execution_count": 11,
   "metadata": {
    "execution": {
     "iopub.execute_input": "2021-10-04T07:32:34.378997Z",
     "iopub.status.busy": "2021-10-04T07:32:34.378045Z",
     "iopub.status.idle": "2021-10-04T07:32:34.623983Z",
     "shell.execute_reply": "2021-10-04T07:32:34.624524Z",
     "shell.execute_reply.started": "2021-10-04T07:08:03.423845Z"
    },
    "papermill": {
     "duration": 0.307696,
     "end_time": "2021-10-04T07:32:34.624704",
     "exception": false,
     "start_time": "2021-10-04T07:32:34.317008",
     "status": "completed"
    },
    "tags": []
   },
   "outputs": [
    {
     "data": {
      "text/plain": [
       "<AxesSubplot:xlabel='quality', ylabel='citric_acid'>"
      ]
     },
     "execution_count": 11,
     "metadata": {},
     "output_type": "execute_result"
    },
    {
     "data": {
      "image/png": "[encoded data removed]",
      "text/plain": [
       "<Figure size 720x576 with 1 Axes>"
      ]
     },
     "metadata": {
      "needs_background": "light"
     },
     "output_type": "display_data"
    }
   ],
   "source": [
    "fig, ax = plt.subplots(figsize=(10,8))\n",
    "sns.boxplot(x = \"quality\", y = \"citric_acid\",palette='rocket' , ax=ax, data=data)     #Boxplot for Quality and Citric Acid"
   ]
  },
  {
   "cell_type": "code",
   "execution_count": 12,
   "metadata": {
    "execution": {
     "iopub.execute_input": "2021-10-04T07:32:34.747278Z",
     "iopub.status.busy": "2021-10-04T07:32:34.746301Z",
     "iopub.status.idle": "2021-10-04T07:32:35.005555Z",
     "shell.execute_reply": "2021-10-04T07:32:35.006100Z",
     "shell.execute_reply.started": "2021-10-04T07:08:03.674805Z"
    },
    "papermill": {
     "duration": 0.322179,
     "end_time": "2021-10-04T07:32:35.006293",
     "exception": false,
     "start_time": "2021-10-04T07:32:34.684114",
     "status": "completed"
    },
    "tags": []
   },
   "outputs": [
    {
     "data": {
      "text/plain": [
       "<AxesSubplot:xlabel='quality', ylabel='residual_sugar'>"
      ]
     },
     "execution_count": 12,
     "metadata": {},
     "output_type": "execute_result"
    },
    {
     "data": {
      "image/png": "[encoded data removed]",
      "text/plain": [
       "<Figure size 720x576 with 1 Axes>"
      ]
     },
     "metadata": {
      "needs_background": "light"
     },
     "output_type": "display_data"
    }
   ],
   "source": [
    "fig, ax = plt.subplots(figsize=(10,8))\n",
    "sns.boxplot(x = \"quality\", y = \"residual_sugar\",palette='rocket' , ax=ax, data=data)   #Boxplot for Quality and Residual Sugar "
   ]
  },
  {
   "cell_type": "code",
   "execution_count": 13,
   "metadata": {
    "execution": {
     "iopub.execute_input": "2021-10-04T07:32:35.149234Z",
     "iopub.status.busy": "2021-10-04T07:32:35.148205Z",
     "iopub.status.idle": "2021-10-04T07:32:35.380195Z",
     "shell.execute_reply": "2021-10-04T07:32:35.380686Z",
     "shell.execute_reply.started": "2021-10-04T07:08:03.952700Z"
    },
    "papermill": {
     "duration": 0.314569,
     "end_time": "2021-10-04T07:32:35.380920",
     "exception": false,
     "start_time": "2021-10-04T07:32:35.066351",
     "status": "completed"
    },
    "tags": []
   },
   "outputs": [
    {
     "data": {
      "text/plain": [
       "<AxesSubplot:xlabel='quality', ylabel='chlorides'>"
      ]
     },
     "execution_count": 13,
     "metadata": {},
     "output_type": "execute_result"
    },
    {
     "data": {
      "image/png": "[encoded data removed]",
      "text/plain": [
       "<Figure size 720x576 with 1 Axes>"
      ]
     },
     "metadata": {
      "needs_background": "light"
     },
     "output_type": "display_data"
    }
   ],
   "source": [
    "fig, ax = plt.subplots(figsize=(10,8))\n",
    "sns.boxplot(x = \"quality\", y = \"chlorides\",palette='rocket' , ax=ax, data=data)   #Boxplot for Quality and Chlorides"
   ]
  },
  {
   "cell_type": "code",
   "execution_count": 14,
   "metadata": {
    "execution": {
     "iopub.execute_input": "2021-10-04T07:32:35.512531Z",
     "iopub.status.busy": "2021-10-04T07:32:35.511427Z",
     "iopub.status.idle": "2021-10-04T07:32:35.781353Z",
     "shell.execute_reply": "2021-10-04T07:32:35.780641Z",
     "shell.execute_reply.started": "2021-10-04T07:08:04.219829Z"
    },
    "papermill": {
     "duration": 0.336482,
     "end_time": "2021-10-04T07:32:35.781515",
     "exception": false,
     "start_time": "2021-10-04T07:32:35.445033",
     "status": "completed"
    },
    "tags": []
   },
   "outputs": [
    {
     "data": {
      "text/plain": [
       "<AxesSubplot:xlabel='quality', ylabel='free_sulfur_dioxide'>"
      ]
     },
     "execution_count": 14,
     "metadata": {},
     "output_type": "execute_result"
    },
    {
     "data": {
      "image/png": "[encoded data removed]",
      "text/plain": [
       "<Figure size 720x576 with 1 Axes>"
      ]
     },
     "metadata": {
      "needs_background": "light"
     },
     "output_type": "display_data"
    }
   ],
   "source": [
    "fig, ax = plt.subplots(figsize=(10,8))\n",
    "sns.boxplot(x = \"quality\", y = \"free_sulfur_dioxide\",palette='rocket' , ax=ax, data=data)     #Boxplot for Quality and free sulfur dioxide"
   ]
  },
  {
   "cell_type": "code",
   "execution_count": 15,
   "metadata": {
    "execution": {
     "iopub.execute_input": "2021-10-04T07:32:35.914394Z",
     "iopub.status.busy": "2021-10-04T07:32:35.913661Z",
     "iopub.status.idle": "2021-10-04T07:32:36.149041Z",
     "shell.execute_reply": "2021-10-04T07:32:36.149594Z",
     "shell.execute_reply.started": "2021-10-04T07:08:04.490829Z"
    },
    "papermill": {
     "duration": 0.30617,
     "end_time": "2021-10-04T07:32:36.149822",
     "exception": false,
     "start_time": "2021-10-04T07:32:35.843652",
     "status": "completed"
    },
    "tags": []
   },
   "outputs": [
    {
     "data": {
      "text/plain": [
       "<AxesSubplot:xlabel='quality', ylabel='total_sulfur_dioxide'>"
      ]
     },
     "execution_count": 15,
     "metadata": {},
     "output_type": "execute_result"
    },
    {
     "data": {
      "image/png": "[encoded data removed]",
      "text/plain": [
       "<Figure size 720x576 with 1 Axes>"
      ]
     },
     "metadata": {
      "needs_background": "light"
     },
     "output_type": "display_data"
    }
   ],
   "source": [
    "fig, ax = plt.subplots(figsize=(10,8))\n",
    "sns.boxplot(x = \"quality\", y = \"total_sulfur_dioxide\",palette='rocket' , ax=ax, data=data)  #Boxplot for Quality and Total sulfur Dioxide"
   ]
  },
  {
   "cell_type": "code",
   "execution_count": 16,
   "metadata": {
    "execution": {
     "iopub.execute_input": "2021-10-04T07:32:36.283583Z",
     "iopub.status.busy": "2021-10-04T07:32:36.282897Z",
     "iopub.status.idle": "2021-10-04T07:32:36.543784Z",
     "shell.execute_reply": "2021-10-04T07:32:36.544307Z",
     "shell.execute_reply.started": "2021-10-04T07:08:04.740499Z"
    },
    "papermill": {
     "duration": 0.32913,
     "end_time": "2021-10-04T07:32:36.544525",
     "exception": false,
     "start_time": "2021-10-04T07:32:36.215395",
     "status": "completed"
    },
    "tags": []
   },
   "outputs": [
    {
     "data": {
      "text/plain": [
       "<AxesSubplot:xlabel='quality', ylabel='pH'>"
      ]
     },
     "execution_count": 16,
     "metadata": {},
     "output_type": "execute_result"
    },
    {
     "data": {
      "image/png": "[encoded data removed]",
      "text/plain": [
       "<Figure size 720x576 with 1 Axes>"
      ]
     },
     "metadata": {
      "needs_background": "light"
     },
     "output_type": "display_data"
    }
   ],
   "source": [
    "fig, ax = plt.subplots(figsize=(10,8))\n",
    "sns.boxplot(x = \"quality\", y = \"pH\",palette='rocket' , ax=ax, data=data)  #Boxplot for Quality and pH"
   ]
  },
  {
   "cell_type": "code",
   "execution_count": 17,
   "metadata": {
    "execution": {
     "iopub.execute_input": "2021-10-04T07:32:36.677760Z",
     "iopub.status.busy": "2021-10-04T07:32:36.677121Z",
     "iopub.status.idle": "2021-10-04T07:32:36.934885Z",
     "shell.execute_reply": "2021-10-04T07:32:36.934237Z",
     "shell.execute_reply.started": "2021-10-04T07:08:05.007570Z"
    },
    "papermill": {
     "duration": 0.325324,
     "end_time": "2021-10-04T07:32:36.935060",
     "exception": false,
     "start_time": "2021-10-04T07:32:36.609736",
     "status": "completed"
    },
    "tags": []
   },
   "outputs": [
    {
     "data": {
      "text/plain": [
       "<AxesSubplot:xlabel='quality', ylabel='sulphates'>"
      ]
     },
     "execution_count": 17,
     "metadata": {},
     "output_type": "execute_result"
    },
    {
     "data": {
      "image/png": "[encoded data removed]",
      "text/plain": [
       "<Figure size 720x576 with 1 Axes>"
      ]
     },
     "metadata": {
      "needs_background": "light"
     },
     "output_type": "display_data"
    }
   ],
   "source": [
    "fig, ax = plt.subplots(figsize=(10,8))\n",
    "sns.boxplot(x = \"quality\", y = \"sulphates\",palette='rocket' , ax=ax, data=data)   #Boxplot for Quality and Sulphates"
   ]
  },
  {
   "cell_type": "code",
   "execution_count": 18,
   "metadata": {
    "execution": {
     "iopub.execute_input": "2021-10-04T07:32:37.102271Z",
     "iopub.status.busy": "2021-10-04T07:32:37.092903Z",
     "iopub.status.idle": "2021-10-04T07:32:37.329620Z",
     "shell.execute_reply": "2021-10-04T07:32:37.328893Z",
     "shell.execute_reply.started": "2021-10-04T07:08:05.267584Z"
    },
    "papermill": {
     "duration": 0.326444,
     "end_time": "2021-10-04T07:32:37.329789",
     "exception": false,
     "start_time": "2021-10-04T07:32:37.003345",
     "status": "completed"
    },
    "tags": []
   },
   "outputs": [
    {
     "data": {
      "text/plain": [
       "<AxesSubplot:xlabel='quality', ylabel='alcohol'>"
      ]
     },
     "execution_count": 18,
     "metadata": {},
     "output_type": "execute_result"
    },
    {
     "data": {
      "image/png": "[encoded data removed]",
      "text/plain": [
       "<Figure size 720x576 with 1 Axes>"
      ]
     },
     "metadata": {
      "needs_background": "light"
     },
     "output_type": "display_data"
    }
   ],
   "source": [
    "fig, ax = plt.subplots(figsize=(10,8))\n",
    "sns.boxplot(x = \"quality\", y = \"alcohol\",palette='rocket' , ax=ax, data=data)  #Boxplot for Quality and Alcohol"
   ]
  },
  {
   "cell_type": "markdown",
   "metadata": {
    "papermill": {
     "duration": 0.069962,
     "end_time": "2021-10-04T07:32:37.467969",
     "exception": false,
     "start_time": "2021-10-04T07:32:37.398007",
     "status": "completed"
    },
    "tags": []
   },
   "source": [
    "### Scatterplots for different feature variables "
   ]
  },
  {
   "cell_type": "code",
   "execution_count": 19,
   "metadata": {
    "execution": {
     "iopub.execute_input": "2021-10-04T07:32:37.621297Z",
     "iopub.status.busy": "2021-10-04T07:32:37.612181Z",
     "iopub.status.idle": "2021-10-04T07:32:37.842496Z",
     "shell.execute_reply": "2021-10-04T07:32:37.841854Z",
     "shell.execute_reply.started": "2021-10-04T07:08:05.523499Z"
    },
    "papermill": {
     "duration": 0.305983,
     "end_time": "2021-10-04T07:32:37.842660",
     "exception": false,
     "start_time": "2021-10-04T07:32:37.536677",
     "status": "completed"
    },
    "tags": []
   },
   "outputs": [
    {
     "data": {
      "text/plain": [
       "<AxesSubplot:xlabel='volatile_acidity', ylabel='fixed_acidity'>"
      ]
     },
     "execution_count": 19,
     "metadata": {},
     "output_type": "execute_result"
    },
    {
     "data": {
      "image/png": "[encoded data removed]",
      "text/plain": [
       "<Figure size 720x576 with 1 Axes>"
      ]
     },
     "metadata": {
      "needs_background": "light"
     },
     "output_type": "display_data"
    }
   ],
   "source": [
    "fig, ax = plt.subplots(figsize=(10,8))\n",
    "sns.scatterplot(x = \"volatile_acidity\", y = \"fixed_acidity\",palette='rocket' , ax=ax, data=data)\n",
    "#Scatterplot for Volatilit acidity and Fixed Acidity"
   ]
  },
  {
   "cell_type": "code",
   "execution_count": 20,
   "metadata": {
    "execution": {
     "iopub.execute_input": "2021-10-04T07:32:38.013214Z",
     "iopub.status.busy": "2021-10-04T07:32:38.006785Z",
     "iopub.status.idle": "2021-10-04T07:32:38.192984Z",
     "shell.execute_reply": "2021-10-04T07:32:38.193515Z",
     "shell.execute_reply.started": "2021-10-04T07:08:05.757513Z"
    },
    "papermill": {
     "duration": 0.282805,
     "end_time": "2021-10-04T07:32:38.193739",
     "exception": false,
     "start_time": "2021-10-04T07:32:37.910934",
     "status": "completed"
    },
    "tags": []
   },
   "outputs": [
    {
     "data": {
      "text/plain": [
       "<AxesSubplot:xlabel='citric_acid', ylabel='residual_sugar'>"
      ]
     },
     "execution_count": 20,
     "metadata": {},
     "output_type": "execute_result"
    },
    {
     "data": {
      "image/png": "[encoded data removed]",
      "text/plain": [
       "<Figure size 720x576 with 1 Axes>"
      ]
     },
     "metadata": {
      "needs_background": "light"
     },
     "output_type": "display_data"
    }
   ],
   "source": [
    "fig, ax = plt.subplots(figsize=(10,8))\n",
    "sns.scatterplot(x = \"citric_acid\", y = \"residual_sugar\",palette='rocket' , ax=ax, data=data)\n",
    "#Scatterplot for Citric Acid vs Residual Sugar"
   ]
  },
  {
   "cell_type": "code",
   "execution_count": 21,
   "metadata": {
    "execution": {
     "iopub.execute_input": "2021-10-04T07:32:38.341318Z",
     "iopub.status.busy": "2021-10-04T07:32:38.340545Z",
     "iopub.status.idle": "2021-10-04T07:32:38.678107Z",
     "shell.execute_reply": "2021-10-04T07:32:38.677381Z",
     "shell.execute_reply.started": "2021-10-04T07:08:05.970776Z"
    },
    "papermill": {
     "duration": 0.412046,
     "end_time": "2021-10-04T07:32:38.678268",
     "exception": false,
     "start_time": "2021-10-04T07:32:38.266222",
     "status": "completed"
    },
    "tags": []
   },
   "outputs": [
    {
     "data": {
      "text/plain": [
       "<AxesSubplot:xlabel='free_sulfur_dioxide', ylabel='total_sulfur_dioxide'>"
      ]
     },
     "execution_count": 21,
     "metadata": {},
     "output_type": "execute_result"
    },
    {
     "data": {
      "image/png": "[encoded data removed]",
      "text/plain": [
       "<Figure size 720x576 with 1 Axes>"
      ]
     },
     "metadata": {
      "needs_background": "light"
     },
     "output_type": "display_data"
    }
   ],
   "source": [
    "fig, ax = plt.subplots(figsize=(10,8))\n",
    "sns.scatterplot(x = \"free_sulfur_dioxide\", y = \"total_sulfur_dioxide\",palette='rocket' , ax=ax, data=data)\n",
    "#Scatterplot for Total sulfur dioxide vs Free sulfur dioxide "
   ]
  },
  {
   "cell_type": "code",
   "execution_count": 22,
   "metadata": {
    "execution": {
     "iopub.execute_input": "2021-10-04T07:32:38.846910Z",
     "iopub.status.busy": "2021-10-04T07:32:38.846203Z",
     "iopub.status.idle": "2021-10-04T07:32:39.030386Z",
     "shell.execute_reply": "2021-10-04T07:32:39.030968Z",
     "shell.execute_reply.started": "2021-10-04T07:08:06.311344Z"
    },
    "papermill": {
     "duration": 0.280179,
     "end_time": "2021-10-04T07:32:39.031151",
     "exception": false,
     "start_time": "2021-10-04T07:32:38.750972",
     "status": "completed"
    },
    "tags": []
   },
   "outputs": [
    {
     "data": {
      "text/plain": [
       "<AxesSubplot:xlabel='chlorides', ylabel='sulphates'>"
      ]
     },
     "execution_count": 22,
     "metadata": {},
     "output_type": "execute_result"
    },
    {
     "data": {
      "image/png": "[encoded data removed]",
      "text/plain": [
       "<Figure size 720x576 with 1 Axes>"
      ]
     },
     "metadata": {
      "needs_background": "light"
     },
     "output_type": "display_data"
    }
   ],
   "source": [
    "fig, ax = plt.subplots(figsize=(10,8))\n",
    "sns.scatterplot(x = \"chlorides\", y = \"sulphates\",palette='rocket' , ax=ax, data=data)\n",
    "#Scatterplot for Chlorides vs Sulphates"
   ]
  },
  {
   "cell_type": "code",
   "execution_count": 23,
   "metadata": {
    "execution": {
     "iopub.execute_input": "2021-10-04T07:32:39.183196Z",
     "iopub.status.busy": "2021-10-04T07:32:39.182507Z",
     "iopub.status.idle": "2021-10-04T07:32:39.389070Z",
     "shell.execute_reply": "2021-10-04T07:32:39.388352Z",
     "shell.execute_reply.started": "2021-10-04T07:08:06.509018Z"
    },
    "papermill": {
     "duration": 0.283596,
     "end_time": "2021-10-04T07:32:39.389238",
     "exception": false,
     "start_time": "2021-10-04T07:32:39.105642",
     "status": "completed"
    },
    "tags": []
   },
   "outputs": [
    {
     "data": {
      "text/plain": [
       "<AxesSubplot:xlabel='alcohol', ylabel='pH'>"
      ]
     },
     "execution_count": 23,
     "metadata": {},
     "output_type": "execute_result"
    },
    {
     "data": {
      "image/png": "[encoded data removed]",
      "text/plain": [
       "<Figure size 720x576 with 1 Axes>"
      ]
     },
     "metadata": {
      "needs_background": "light"
     },
     "output_type": "display_data"
    }
   ],
   "source": [
    "fig, ax = plt.subplots(figsize=(10,8))\n",
    "sns.scatterplot(x = \"alcohol\", y = \"pH\",palette='red' , ax=ax, data=data)\n",
    "#Scatterplot for alcohol vs pH"
   ]
  },
  {
   "cell_type": "markdown",
   "metadata": {
    "papermill": {
     "duration": 0.077935,
     "end_time": "2021-10-04T07:32:39.546786",
     "exception": false,
     "start_time": "2021-10-04T07:32:39.468851",
     "status": "completed"
    },
    "tags": []
   },
   "source": [
    "### Correlation across different features"
   ]
  },
  {
   "cell_type": "code",
   "execution_count": 24,
   "metadata": {
    "execution": {
     "iopub.execute_input": "2021-10-04T07:32:39.730316Z",
     "iopub.status.busy": "2021-10-04T07:32:39.709463Z",
     "iopub.status.idle": "2021-10-04T07:32:40.157621Z",
     "shell.execute_reply": "2021-10-04T07:32:40.158124Z",
     "shell.execute_reply.started": "2021-10-04T07:08:06.718143Z"
    },
    "papermill": {
     "duration": 0.532781,
     "end_time": "2021-10-04T07:32:40.158341",
     "exception": false,
     "start_time": "2021-10-04T07:32:39.625560",
     "status": "completed"
    },
    "tags": []
   },
   "outputs": [
    {
     "data": {
      "image/png": "[encoded data removed]",
      "text/plain": [
       "<Figure size 1152x864 with 2 Axes>"
      ]
     },
     "metadata": {
      "needs_background": "light"
     },
     "output_type": "display_data"
    }
   ],
   "source": [
    "plt.subplots(figsize=(16,12))\n",
    "ax = plt.axes()\n",
    "ax.set_title(\"Wine Characteristic Correlation Heatmap\")\n",
    "corr = data.corr()\n",
    "sns.heatmap(corr, \n",
    "            xticklabels=corr.columns.values,\n",
    "            yticklabels=corr.columns.values,\n",
    "           cmap=\"Reds\")                       #Correlation Map for all the features\n",
    "plt.show()"
   ]
  },
  {
   "cell_type": "markdown",
   "metadata": {
    "papermill": {
     "duration": 0.077011,
     "end_time": "2021-10-04T07:32:40.312566",
     "exception": false,
     "start_time": "2021-10-04T07:32:40.235555",
     "status": "completed"
    },
    "tags": []
   },
   "source": [
    "## Data cleaning and prepocessing"
   ]
  },
  {
   "cell_type": "code",
   "execution_count": 25,
   "metadata": {
    "execution": {
     "iopub.execute_input": "2021-10-04T07:32:40.473033Z",
     "iopub.status.busy": "2021-10-04T07:32:40.471987Z",
     "iopub.status.idle": "2021-10-04T07:32:40.476074Z",
     "shell.execute_reply": "2021-10-04T07:32:40.476593Z",
     "shell.execute_reply.started": "2021-10-04T07:08:07.173007Z"
    },
    "papermill": {
     "duration": 0.087227,
     "end_time": "2021-10-04T07:32:40.476831",
     "exception": false,
     "start_time": "2021-10-04T07:32:40.389604",
     "status": "completed"
    },
    "tags": []
   },
   "outputs": [],
   "source": [
    "df=data"
   ]
  },
  {
   "cell_type": "markdown",
   "metadata": {
    "papermill": {
     "duration": 0.078534,
     "end_time": "2021-10-04T07:32:40.635076",
     "exception": false,
     "start_time": "2021-10-04T07:32:40.556542",
     "status": "completed"
    },
    "tags": []
   },
   "source": [
    "### Removing the outliers detected with the help of the Boxplots !"
   ]
  },
  {
   "cell_type": "code",
   "execution_count": 26,
   "metadata": {
    "execution": {
     "iopub.execute_input": "2021-10-04T07:32:40.797035Z",
     "iopub.status.busy": "2021-10-04T07:32:40.796010Z",
     "iopub.status.idle": "2021-10-04T07:32:40.801564Z",
     "shell.execute_reply": "2021-10-04T07:32:40.802122Z",
     "shell.execute_reply.started": "2021-10-04T07:08:07.179656Z"
    },
    "papermill": {
     "duration": 0.089,
     "end_time": "2021-10-04T07:32:40.802336",
     "exception": false,
     "start_time": "2021-10-04T07:32:40.713336",
     "status": "completed"
    },
    "tags": []
   },
   "outputs": [],
   "source": [
    "lower_limit = df[\"free_sulfur_dioxide\"].mean() - 3*df[\"free_sulfur_dioxide\"].std()\n",
    "upper_limit = df[\"free_sulfur_dioxide\"].mean() + 3*df[\"free_sulfur_dioxide\"].std()"
   ]
  },
  {
   "cell_type": "code",
   "execution_count": 27,
   "metadata": {
    "execution": {
     "iopub.execute_input": "2021-10-04T07:32:40.965786Z",
     "iopub.status.busy": "2021-10-04T07:32:40.964696Z",
     "iopub.status.idle": "2021-10-04T07:32:40.972027Z",
     "shell.execute_reply": "2021-10-04T07:32:40.971478Z",
     "shell.execute_reply.started": "2021-10-04T07:08:07.195353Z"
    },
    "papermill": {
     "duration": 0.091824,
     "end_time": "2021-10-04T07:32:40.972202",
     "exception": false,
     "start_time": "2021-10-04T07:32:40.880378",
     "status": "completed"
    },
    "tags": []
   },
   "outputs": [],
   "source": [
    "df2 = df[(df[\"free_sulfur_dioxide\"] > lower_limit) & (df[\"free_sulfur_dioxide\"] < upper_limit)]"
   ]
  },
  {
   "cell_type": "code",
   "execution_count": 28,
   "metadata": {
    "execution": {
     "iopub.execute_input": "2021-10-04T07:32:41.136968Z",
     "iopub.status.busy": "2021-10-04T07:32:41.136010Z",
     "iopub.status.idle": "2021-10-04T07:32:41.139240Z",
     "shell.execute_reply": "2021-10-04T07:32:41.138698Z",
     "shell.execute_reply.started": "2021-10-04T07:08:07.211796Z"
    },
    "papermill": {
     "duration": 0.088908,
     "end_time": "2021-10-04T07:32:41.139409",
     "exception": false,
     "start_time": "2021-10-04T07:32:41.050501",
     "status": "completed"
    },
    "tags": []
   },
   "outputs": [],
   "source": [
    "lower_limit = df2['total_sulfur_dioxide'].mean() - 3*df2['total_sulfur_dioxide'].std()\n",
    "upper_limit = df2['total_sulfur_dioxide'].mean() + 3*df2['total_sulfur_dioxide'].std()"
   ]
  },
  {
   "cell_type": "code",
   "execution_count": 29,
   "metadata": {
    "execution": {
     "iopub.execute_input": "2021-10-04T07:32:41.306850Z",
     "iopub.status.busy": "2021-10-04T07:32:41.305911Z",
     "iopub.status.idle": "2021-10-04T07:32:41.310341Z",
     "shell.execute_reply": "2021-10-04T07:32:41.309770Z",
     "shell.execute_reply.started": "2021-10-04T07:08:07.226213Z"
    },
    "papermill": {
     "duration": 0.088962,
     "end_time": "2021-10-04T07:32:41.310619",
     "exception": false,
     "start_time": "2021-10-04T07:32:41.221657",
     "status": "completed"
    },
    "tags": []
   },
   "outputs": [],
   "source": [
    "df3 = df2[(df2['total_sulfur_dioxide'] > lower_limit) & (df2['total_sulfur_dioxide'] < upper_limit)]"
   ]
  },
  {
   "cell_type": "code",
   "execution_count": 30,
   "metadata": {
    "execution": {
     "iopub.execute_input": "2021-10-04T07:32:41.475861Z",
     "iopub.status.busy": "2021-10-04T07:32:41.475056Z",
     "iopub.status.idle": "2021-10-04T07:32:41.478563Z",
     "shell.execute_reply": "2021-10-04T07:32:41.477885Z",
     "shell.execute_reply.started": "2021-10-04T07:08:07.242373Z"
    },
    "papermill": {
     "duration": 0.089699,
     "end_time": "2021-10-04T07:32:41.478727",
     "exception": false,
     "start_time": "2021-10-04T07:32:41.389028",
     "status": "completed"
    },
    "tags": []
   },
   "outputs": [],
   "source": [
    "lower_limit = df3['residual_sugar'].mean() - 3*df3['residual_sugar'].std()\n",
    "upper_limit = df3['residual_sugar'].mean() + 3*df3['residual_sugar'].std()"
   ]
  },
  {
   "cell_type": "code",
   "execution_count": 31,
   "metadata": {
    "execution": {
     "iopub.execute_input": "2021-10-04T07:32:41.645206Z",
     "iopub.status.busy": "2021-10-04T07:32:41.644439Z",
     "iopub.status.idle": "2021-10-04T07:32:41.647552Z",
     "shell.execute_reply": "2021-10-04T07:32:41.648030Z",
     "shell.execute_reply.started": "2021-10-04T07:08:07.258982Z"
    },
    "papermill": {
     "duration": 0.089141,
     "end_time": "2021-10-04T07:32:41.648251",
     "exception": false,
     "start_time": "2021-10-04T07:32:41.559110",
     "status": "completed"
    },
    "tags": []
   },
   "outputs": [],
   "source": [
    "df4 = df3[(df3['residual_sugar'] > lower_limit) & (df3['residual_sugar'] < upper_limit)]"
   ]
  },
  {
   "cell_type": "code",
   "execution_count": 32,
   "metadata": {
    "execution": {
     "iopub.execute_input": "2021-10-04T07:32:41.811308Z",
     "iopub.status.busy": "2021-10-04T07:32:41.810418Z",
     "iopub.status.idle": "2021-10-04T07:32:41.813549Z",
     "shell.execute_reply": "2021-10-04T07:32:41.813002Z",
     "shell.execute_reply.started": "2021-10-04T07:08:07.275020Z"
    },
    "papermill": {
     "duration": 0.08735,
     "end_time": "2021-10-04T07:32:41.813724",
     "exception": false,
     "start_time": "2021-10-04T07:32:41.726374",
     "status": "completed"
    },
    "tags": []
   },
   "outputs": [],
   "source": [
    "lower_limit = df4[\"chlorides\"].mean() - 3*df4[\"chlorides\"].std()\n",
    "upper_limit = df4[\"chlorides\"].mean() + 3*df4[\"chlorides\"].std()"
   ]
  },
  {
   "cell_type": "code",
   "execution_count": 33,
   "metadata": {
    "execution": {
     "iopub.execute_input": "2021-10-04T07:32:41.977592Z",
     "iopub.status.busy": "2021-10-04T07:32:41.976579Z",
     "iopub.status.idle": "2021-10-04T07:32:41.980627Z",
     "shell.execute_reply": "2021-10-04T07:32:41.979938Z",
     "shell.execute_reply.started": "2021-10-04T07:08:07.290263Z"
    },
    "papermill": {
     "duration": 0.088925,
     "end_time": "2021-10-04T07:32:41.980829",
     "exception": false,
     "start_time": "2021-10-04T07:32:41.891904",
     "status": "completed"
    },
    "tags": []
   },
   "outputs": [],
   "source": [
    "df5 = df4[(df4['chlorides'] > lower_limit) & (df4['chlorides'] < upper_limit)]"
   ]
  },
  {
   "cell_type": "code",
   "execution_count": 34,
   "metadata": {
    "execution": {
     "iopub.execute_input": "2021-10-04T07:32:42.147419Z",
     "iopub.status.busy": "2021-10-04T07:32:42.146579Z",
     "iopub.status.idle": "2021-10-04T07:32:42.149526Z",
     "shell.execute_reply": "2021-10-04T07:32:42.148884Z",
     "shell.execute_reply.started": "2021-10-04T07:08:07.306376Z"
    },
    "papermill": {
     "duration": 0.089672,
     "end_time": "2021-10-04T07:32:42.149689",
     "exception": false,
     "start_time": "2021-10-04T07:32:42.060017",
     "status": "completed"
    },
    "tags": []
   },
   "outputs": [],
   "source": [
    "lower_limit = df5[\"sulphates\"].mean() - 3*df5[\"sulphates\"].std()\n",
    "upper_limit = df5[\"sulphates\"].mean() + 3*df5[\"sulphates\"].std()"
   ]
  },
  {
   "cell_type": "code",
   "execution_count": 35,
   "metadata": {
    "execution": {
     "iopub.execute_input": "2021-10-04T07:32:42.311787Z",
     "iopub.status.busy": "2021-10-04T07:32:42.311121Z",
     "iopub.status.idle": "2021-10-04T07:32:42.313288Z",
     "shell.execute_reply": "2021-10-04T07:32:42.313923Z",
     "shell.execute_reply.started": "2021-10-04T07:08:07.322554Z"
    },
    "papermill": {
     "duration": 0.08679,
     "end_time": "2021-10-04T07:32:42.314160",
     "exception": false,
     "start_time": "2021-10-04T07:32:42.227370",
     "status": "completed"
    },
    "tags": []
   },
   "outputs": [],
   "source": [
    "df6 = df5[(df5['sulphates'] > lower_limit) & (df5['sulphates'] < upper_limit)]"
   ]
  },
  {
   "cell_type": "code",
   "execution_count": 36,
   "metadata": {
    "execution": {
     "iopub.execute_input": "2021-10-04T07:32:42.476871Z",
     "iopub.status.busy": "2021-10-04T07:32:42.476115Z",
     "iopub.status.idle": "2021-10-04T07:32:42.482492Z",
     "shell.execute_reply": "2021-10-04T07:32:42.481939Z",
     "shell.execute_reply.started": "2021-10-04T07:08:07.338733Z"
    },
    "papermill": {
     "duration": 0.089283,
     "end_time": "2021-10-04T07:32:42.482664",
     "exception": false,
     "start_time": "2021-10-04T07:32:42.393381",
     "status": "completed"
    },
    "tags": []
   },
   "outputs": [],
   "source": [
    "lower_limit = df6[\"volatile_acidity\"].mean() - 3*df6[\"volatile_acidity\"].std()\n",
    "upper_limit = df6[\"volatile_acidity\"].mean() + 3*df6[\"volatile_acidity\"].std()"
   ]
  },
  {
   "cell_type": "code",
   "execution_count": 37,
   "metadata": {
    "execution": {
     "iopub.execute_input": "2021-10-04T07:32:42.645739Z",
     "iopub.status.busy": "2021-10-04T07:32:42.644718Z",
     "iopub.status.idle": "2021-10-04T07:32:42.649564Z",
     "shell.execute_reply": "2021-10-04T07:32:42.649037Z",
     "shell.execute_reply.started": "2021-10-04T07:08:07.352370Z"
    },
    "papermill": {
     "duration": 0.088686,
     "end_time": "2021-10-04T07:32:42.649739",
     "exception": false,
     "start_time": "2021-10-04T07:32:42.561053",
     "status": "completed"
    },
    "tags": []
   },
   "outputs": [],
   "source": [
    "df7 = df6[(df6['volatile_acidity'] > lower_limit) & (df6['volatile_acidity'] < upper_limit)]"
   ]
  },
  {
   "cell_type": "code",
   "execution_count": 38,
   "metadata": {
    "execution": {
     "iopub.execute_input": "2021-10-04T07:32:42.812719Z",
     "iopub.status.busy": "2021-10-04T07:32:42.812032Z",
     "iopub.status.idle": "2021-10-04T07:32:42.815152Z",
     "shell.execute_reply": "2021-10-04T07:32:42.814553Z",
     "shell.execute_reply.started": "2021-10-04T07:08:07.367834Z"
    },
    "papermill": {
     "duration": 0.087815,
     "end_time": "2021-10-04T07:32:42.815319",
     "exception": false,
     "start_time": "2021-10-04T07:32:42.727504",
     "status": "completed"
    },
    "tags": []
   },
   "outputs": [],
   "source": [
    "lower_limit = df7[\"fixed_acidity\"].mean() - 3*df7[\"fixed_acidity\"].std()\n",
    "upper_limit = df7[\"fixed_acidity\"].mean() + 3*df7[\"fixed_acidity\"].std()"
   ]
  },
  {
   "cell_type": "code",
   "execution_count": 39,
   "metadata": {
    "execution": {
     "iopub.execute_input": "2021-10-04T07:32:42.979865Z",
     "iopub.status.busy": "2021-10-04T07:32:42.979020Z",
     "iopub.status.idle": "2021-10-04T07:32:42.983438Z",
     "shell.execute_reply": "2021-10-04T07:32:42.982885Z",
     "shell.execute_reply.started": "2021-10-04T07:08:07.381158Z"
    },
    "papermill": {
     "duration": 0.09006,
     "end_time": "2021-10-04T07:32:42.983651",
     "exception": false,
     "start_time": "2021-10-04T07:32:42.893591",
     "status": "completed"
    },
    "tags": []
   },
   "outputs": [],
   "source": [
    "df8 = df7[(df7['fixed_acidity'] > lower_limit) & (df7['fixed_acidity'] < upper_limit)]"
   ]
  },
  {
   "cell_type": "code",
   "execution_count": 40,
   "metadata": {
    "execution": {
     "iopub.execute_input": "2021-10-04T07:32:43.146484Z",
     "iopub.status.busy": "2021-10-04T07:32:43.144994Z",
     "iopub.status.idle": "2021-10-04T07:32:43.152682Z",
     "shell.execute_reply": "2021-10-04T07:32:43.151752Z",
     "shell.execute_reply.started": "2021-10-04T07:08:07.399191Z"
    },
    "papermill": {
     "duration": 0.090053,
     "end_time": "2021-10-04T07:32:43.152871",
     "exception": false,
     "start_time": "2021-10-04T07:32:43.062818",
     "status": "completed"
    },
    "tags": []
   },
   "outputs": [],
   "source": [
    "lower_limit = df8[\"citric_acid\"].mean() - 3*df8[\"citric_acid\"].std()\n",
    "upper_limit = df8[\"citric_acid\"].mean() + 3*df8[\"citric_acid\"].std()"
   ]
  },
  {
   "cell_type": "code",
   "execution_count": 41,
   "metadata": {
    "execution": {
     "iopub.execute_input": "2021-10-04T07:32:43.315187Z",
     "iopub.status.busy": "2021-10-04T07:32:43.314287Z",
     "iopub.status.idle": "2021-10-04T07:32:43.318038Z",
     "shell.execute_reply": "2021-10-04T07:32:43.317495Z",
     "shell.execute_reply.started": "2021-10-04T07:08:07.412828Z"
    },
    "papermill": {
     "duration": 0.088126,
     "end_time": "2021-10-04T07:32:43.318193",
     "exception": false,
     "start_time": "2021-10-04T07:32:43.230067",
     "status": "completed"
    },
    "tags": []
   },
   "outputs": [],
   "source": [
    "df9 = df8[(df8['citric_acid'] > lower_limit) & (df8['citric_acid'] < upper_limit)]"
   ]
  },
  {
   "cell_type": "code",
   "execution_count": 42,
   "metadata": {
    "execution": {
     "iopub.execute_input": "2021-10-04T07:32:43.480019Z",
     "iopub.status.busy": "2021-10-04T07:32:43.479290Z",
     "iopub.status.idle": "2021-10-04T07:32:43.481690Z",
     "shell.execute_reply": "2021-10-04T07:32:43.482225Z",
     "shell.execute_reply.started": "2021-10-04T07:08:07.428427Z"
    },
    "papermill": {
     "duration": 0.087568,
     "end_time": "2021-10-04T07:32:43.482444",
     "exception": false,
     "start_time": "2021-10-04T07:32:43.394876",
     "status": "completed"
    },
    "tags": []
   },
   "outputs": [],
   "source": [
    "lower_limit = df9[\"pH\"].mean() - 3*df9[\"pH\"].std()\n",
    "upper_limit = df9[\"pH\"].mean() + 3*df9[\"pH\"].std()"
   ]
  },
  {
   "cell_type": "code",
   "execution_count": 43,
   "metadata": {
    "execution": {
     "iopub.execute_input": "2021-10-04T07:32:43.647494Z",
     "iopub.status.busy": "2021-10-04T07:32:43.646447Z",
     "iopub.status.idle": "2021-10-04T07:32:43.649915Z",
     "shell.execute_reply": "2021-10-04T07:32:43.650389Z",
     "shell.execute_reply.started": "2021-10-04T07:08:07.442418Z"
    },
    "papermill": {
     "duration": 0.089615,
     "end_time": "2021-10-04T07:32:43.650612",
     "exception": false,
     "start_time": "2021-10-04T07:32:43.560997",
     "status": "completed"
    },
    "tags": []
   },
   "outputs": [],
   "source": [
    "df10 = df9[(df9['pH'] > lower_limit) & (df9['pH'] < upper_limit)]"
   ]
  },
  {
   "cell_type": "markdown",
   "metadata": {
    "papermill": {
     "duration": 0.078177,
     "end_time": "2021-10-04T07:32:43.805645",
     "exception": false,
     "start_time": "2021-10-04T07:32:43.727468",
     "status": "completed"
    },
    "tags": []
   },
   "source": [
    "### Quality mapping as `3,4` ->`Low`, `5, 6, 7` -> `Medium`, `8, 9` ->`high` "
   ]
  },
  {
   "cell_type": "code",
   "execution_count": 44,
   "metadata": {
    "execution": {
     "iopub.execute_input": "2021-10-04T07:32:43.970245Z",
     "iopub.status.busy": "2021-10-04T07:32:43.969500Z",
     "iopub.status.idle": "2021-10-04T07:32:43.973521Z",
     "shell.execute_reply": "2021-10-04T07:32:43.972998Z",
     "shell.execute_reply.started": "2021-10-04T07:08:07.459049Z"
    },
    "papermill": {
     "duration": 0.091334,
     "end_time": "2021-10-04T07:32:43.973676",
     "exception": false,
     "start_time": "2021-10-04T07:32:43.882342",
     "status": "completed"
    },
    "tags": []
   },
   "outputs": [],
   "source": [
    "quality_mapping = { 3 : \"Low\", 4 : \"Low\", 5: \"Medium\",6 : \"Medium\",7: \"Medium\",8 : \"High\",9 : \"High\"}\n",
    "df10[\"quality\"] =  df10[\"quality\"].map(quality_mapping)"
   ]
  },
  {
   "cell_type": "markdown",
   "metadata": {
    "papermill": {
     "duration": 0.076794,
     "end_time": "2021-10-04T07:32:44.127687",
     "exception": false,
     "start_time": "2021-10-04T07:32:44.050893",
     "status": "completed"
    },
    "tags": []
   },
   "source": [
    "### Categorical to numeric mapping"
   ]
  },
  {
   "cell_type": "code",
   "execution_count": 45,
   "metadata": {
    "execution": {
     "iopub.execute_input": "2021-10-04T07:32:44.316456Z",
     "iopub.status.busy": "2021-10-04T07:32:44.315730Z",
     "iopub.status.idle": "2021-10-04T07:32:44.319880Z",
     "shell.execute_reply": "2021-10-04T07:32:44.319299Z",
     "shell.execute_reply.started": "2021-10-04T07:08:07.474525Z"
    },
    "papermill": {
     "duration": 0.105247,
     "end_time": "2021-10-04T07:32:44.320033",
     "exception": false,
     "start_time": "2021-10-04T07:32:44.214786",
     "status": "completed"
    },
    "tags": []
   },
   "outputs": [],
   "source": [
    "quality_code = {\"Low\" : 0,\"Medium\": 1,\"High\" : 2}\n",
    "df10[\"quality\"] =  df10[\"quality\"].map(quality_code)"
   ]
  },
  {
   "cell_type": "code",
   "execution_count": 46,
   "metadata": {
    "execution": {
     "iopub.execute_input": "2021-10-04T07:32:44.480592Z",
     "iopub.status.busy": "2021-10-04T07:32:44.479647Z",
     "iopub.status.idle": "2021-10-04T07:32:44.483072Z",
     "shell.execute_reply": "2021-10-04T07:32:44.482518Z",
     "shell.execute_reply.started": "2021-10-04T07:08:07.490705Z"
    },
    "papermill": {
     "duration": 0.08611,
     "end_time": "2021-10-04T07:32:44.483231",
     "exception": false,
     "start_time": "2021-10-04T07:32:44.397121",
     "status": "completed"
    },
    "tags": []
   },
   "outputs": [],
   "source": [
    "train=df10"
   ]
  },
  {
   "cell_type": "markdown",
   "metadata": {
    "papermill": {
     "duration": 0.077383,
     "end_time": "2021-10-04T07:32:44.638579",
     "exception": false,
     "start_time": "2021-10-04T07:32:44.561196",
     "status": "completed"
    },
    "tags": []
   },
   "source": [
    "## Data Split"
   ]
  },
  {
   "cell_type": "code",
   "execution_count": 47,
   "metadata": {
    "execution": {
     "iopub.execute_input": "2021-10-04T07:32:44.799101Z",
     "iopub.status.busy": "2021-10-04T07:32:44.798377Z",
     "iopub.status.idle": "2021-10-04T07:32:45.042869Z",
     "shell.execute_reply": "2021-10-04T07:32:45.042231Z",
     "shell.execute_reply.started": "2021-10-04T07:08:07.499519Z"
    },
    "papermill": {
     "duration": 0.327624,
     "end_time": "2021-10-04T07:32:45.043025",
     "exception": false,
     "start_time": "2021-10-04T07:32:44.715401",
     "status": "completed"
    },
    "tags": []
   },
   "outputs": [],
   "source": [
    "from sklearn.model_selection import train_test_split"
   ]
  },
  {
   "cell_type": "code",
   "execution_count": 48,
   "metadata": {
    "execution": {
     "iopub.execute_input": "2021-10-04T07:32:45.205136Z",
     "iopub.status.busy": "2021-10-04T07:32:45.204331Z",
     "iopub.status.idle": "2021-10-04T07:32:45.206958Z",
     "shell.execute_reply": "2021-10-04T07:32:45.207426Z",
     "shell.execute_reply.started": "2021-10-04T07:08:07.757196Z"
    },
    "papermill": {
     "duration": 0.086938,
     "end_time": "2021-10-04T07:32:45.207611",
     "exception": false,
     "start_time": "2021-10-04T07:32:45.120673",
     "status": "completed"
    },
    "tags": []
   },
   "outputs": [],
   "source": [
    "X=train.drop(['quality'],axis=1)   # separating the independent variables and dependent variable\n",
    "y=train['quality']"
   ]
  },
  {
   "cell_type": "markdown",
   "metadata": {
    "papermill": {
     "duration": 0.075949,
     "end_time": "2021-10-04T07:32:45.360334",
     "exception": false,
     "start_time": "2021-10-04T07:32:45.284385",
     "status": "completed"
    },
    "tags": []
   },
   "source": [
    "## Feature Scaling\n",
    "\n",
    "### Using Standard Scalar to scale down features variables"
   ]
  },
  {
   "cell_type": "code",
   "execution_count": 49,
   "metadata": {
    "execution": {
     "iopub.execute_input": "2021-10-04T07:32:45.521951Z",
     "iopub.status.busy": "2021-10-04T07:32:45.521259Z",
     "iopub.status.idle": "2021-10-04T07:32:45.530136Z",
     "shell.execute_reply": "2021-10-04T07:32:45.529474Z",
     "shell.execute_reply.started": "2021-10-04T07:08:07.767075Z"
    },
    "papermill": {
     "duration": 0.093601,
     "end_time": "2021-10-04T07:32:45.530285",
     "exception": false,
     "start_time": "2021-10-04T07:32:45.436684",
     "status": "completed"
    },
    "tags": []
   },
   "outputs": [
    {
     "name": "stdout",
     "output_type": "stream",
     "text": [
      "(2025, 11)\n"
     ]
    }
   ],
   "source": [
    "from sklearn.preprocessing import StandardScaler\n",
    "sc = StandardScaler()\n",
    "X = sc.fit_transform(X)\n",
    "print(X.shape)\n"
   ]
  },
  {
   "cell_type": "markdown",
   "metadata": {
    "papermill": {
     "duration": 0.078878,
     "end_time": "2021-10-04T07:32:45.687834",
     "exception": false,
     "start_time": "2021-10-04T07:32:45.608956",
     "status": "completed"
    },
    "tags": []
   },
   "source": [
    "### Dimesionality Reduction by PCA"
   ]
  },
  {
   "cell_type": "code",
   "execution_count": 50,
   "metadata": {
    "execution": {
     "iopub.execute_input": "2021-10-04T07:32:45.850341Z",
     "iopub.status.busy": "2021-10-04T07:32:45.849623Z",
     "iopub.status.idle": "2021-10-04T07:32:46.013494Z",
     "shell.execute_reply": "2021-10-04T07:32:46.012541Z",
     "shell.execute_reply.started": "2021-10-04T07:08:07.782949Z"
    },
    "papermill": {
     "duration": 0.247469,
     "end_time": "2021-10-04T07:32:46.013995",
     "exception": false,
     "start_time": "2021-10-04T07:32:45.766526",
     "status": "completed"
    },
    "tags": []
   },
   "outputs": [],
   "source": [
    "from sklearn.decomposition import PCA\n",
    "pca = PCA()\n",
    "x_pca = pca.fit_transform(X)"
   ]
  },
  {
   "cell_type": "code",
   "execution_count": 51,
   "metadata": {
    "execution": {
     "iopub.execute_input": "2021-10-04T07:32:46.232447Z",
     "iopub.status.busy": "2021-10-04T07:32:46.231749Z",
     "iopub.status.idle": "2021-10-04T07:32:46.409848Z",
     "shell.execute_reply": "2021-10-04T07:32:46.410347Z",
     "shell.execute_reply.started": "2021-10-04T07:08:07.939491Z"
    },
    "papermill": {
     "duration": 0.261638,
     "end_time": "2021-10-04T07:32:46.410568",
     "exception": false,
     "start_time": "2021-10-04T07:32:46.148930",
     "status": "completed"
    },
    "tags": []
   },
   "outputs": [
    {
     "data": {
      "image/png": "[encoded data removed]",
      "text/plain": [
       "<Figure size 720x720 with 1 Axes>"
      ]
     },
     "metadata": {
      "needs_background": "light"
     },
     "output_type": "display_data"
    }
   ],
   "source": [
    "plt.figure(figsize=(10,10))\n",
    "plt.plot(np.cumsum(pca.explained_variance_ratio_), 'ro-')\n",
    "plt.grid()"
   ]
  },
  {
   "cell_type": "code",
   "execution_count": 52,
   "metadata": {
    "execution": {
     "iopub.execute_input": "2021-10-04T07:32:46.576140Z",
     "iopub.status.busy": "2021-10-04T07:32:46.575377Z",
     "iopub.status.idle": "2021-10-04T07:32:46.584934Z",
     "shell.execute_reply": "2021-10-04T07:32:46.583991Z",
     "shell.execute_reply.started": "2021-10-04T07:08:08.167986Z"
    },
    "papermill": {
     "duration": 0.093974,
     "end_time": "2021-10-04T07:32:46.585228",
     "exception": false,
     "start_time": "2021-10-04T07:32:46.491254",
     "status": "completed"
    },
    "tags": []
   },
   "outputs": [],
   "source": [
    "pca_new = PCA(n_components=10)\n",
    "x_new = pca_new.fit_transform(X)"
   ]
  },
  {
   "cell_type": "code",
   "execution_count": 53,
   "metadata": {
    "execution": {
     "iopub.execute_input": "2021-10-04T07:32:46.801501Z",
     "iopub.status.busy": "2021-10-04T07:32:46.800760Z",
     "iopub.status.idle": "2021-10-04T07:32:46.807103Z",
     "shell.execute_reply": "2021-10-04T07:32:46.806264Z",
     "shell.execute_reply.started": "2021-10-04T07:08:08.178607Z"
    },
    "papermill": {
     "duration": 0.090758,
     "end_time": "2021-10-04T07:32:46.807330",
     "exception": false,
     "start_time": "2021-10-04T07:32:46.716572",
     "status": "completed"
    },
    "tags": []
   },
   "outputs": [
    {
     "name": "stdout",
     "output_type": "stream",
     "text": [
      "(2025, 10)\n",
      "(2025,)\n"
     ]
    }
   ],
   "source": [
    "print(x_new.shape)\n",
    "print(y.shape)"
   ]
  },
  {
   "cell_type": "code",
   "execution_count": 54,
   "metadata": {
    "execution": {
     "iopub.execute_input": "2021-10-04T07:32:46.976287Z",
     "iopub.status.busy": "2021-10-04T07:32:46.975518Z",
     "iopub.status.idle": "2021-10-04T07:32:46.979089Z",
     "shell.execute_reply": "2021-10-04T07:32:46.978493Z",
     "shell.execute_reply.started": "2021-10-04T07:08:08.187039Z"
    },
    "papermill": {
     "duration": 0.090798,
     "end_time": "2021-10-04T07:32:46.979255",
     "exception": false,
     "start_time": "2021-10-04T07:32:46.888457",
     "status": "completed"
    },
    "tags": []
   },
   "outputs": [],
   "source": [
    "X_train, X_test, y_train, y_test = train_test_split(x_new, y, test_size = 0.2,random_state=1)"
   ]
  },
  {
   "cell_type": "markdown",
   "metadata": {
    "papermill": {
     "duration": 0.080517,
     "end_time": "2021-10-04T07:32:47.141417",
     "exception": false,
     "start_time": "2021-10-04T07:32:47.060900",
     "status": "completed"
    },
    "tags": []
   },
   "source": [
    "## Model Development"
   ]
  },
  {
   "cell_type": "code",
   "execution_count": 55,
   "metadata": {
    "execution": {
     "iopub.execute_input": "2021-10-04T07:32:47.305777Z",
     "iopub.status.busy": "2021-10-04T07:32:47.305033Z",
     "iopub.status.idle": "2021-10-04T07:32:47.442107Z",
     "shell.execute_reply": "2021-10-04T07:32:47.441190Z",
     "shell.execute_reply.started": "2021-10-04T07:08:08.202487Z"
    },
    "papermill": {
     "duration": 0.220755,
     "end_time": "2021-10-04T07:32:47.442295",
     "exception": false,
     "start_time": "2021-10-04T07:32:47.221540",
     "status": "completed"
    },
    "tags": []
   },
   "outputs": [],
   "source": [
    "from sklearn.model_selection import GridSearchCV    # for getting the best hyperparameters\n",
    "from sklearn.tree import DecisionTreeClassifier\n",
    "from sklearn.ensemble import RandomForestClassifier\n",
    "from sklearn.naive_bayes import GaussianNB\n",
    "from sklearn.linear_model import LogisticRegression\n",
    "from sklearn.svm import SVC\n",
    "from sklearn.ensemble import AdaBoostClassifier\n",
    "from sklearn.ensemble import GradientBoostingClassifier\n",
    "\n",
    "# importing and initializing different classifier to use as base_estimator for adaboost\n",
    "from sklearn.svm import SVC\n",
    "svc=SVC(probability=True, kernel='linear')\n",
    "from sklearn.ensemble import ExtraTreesClassifier\n",
    "etc = ExtraTreesClassifier(n_estimators=10, max_depth=None,min_samples_split=2, random_state=0)\n",
    "rfc = RandomForestClassifier(n_estimators=10, max_depth=None, min_samples_split=2, random_state=0)\n"
   ]
  },
  {
   "cell_type": "code",
   "execution_count": 56,
   "metadata": {
    "execution": {
     "iopub.execute_input": "2021-10-04T07:32:47.617447Z",
     "iopub.status.busy": "2021-10-04T07:32:47.614389Z",
     "iopub.status.idle": "2021-10-04T07:32:47.619765Z",
     "shell.execute_reply": "2021-10-04T07:32:47.620251Z",
     "shell.execute_reply.started": "2021-10-04T07:08:08.341502Z"
    },
    "papermill": {
     "duration": 0.095892,
     "end_time": "2021-10-04T07:32:47.620468",
     "exception": false,
     "start_time": "2021-10-04T07:32:47.524576",
     "status": "completed"
    },
    "tags": []
   },
   "outputs": [],
   "source": [
    "model_params  = {\n",
    "    \"svm\" : {\n",
    "        \"model\":SVC(gamma=\"auto\"),\n",
    "        \"params\":{\n",
    "            'C' : [1,10,20],\n",
    "            'kernel':[\"rbf\"]\n",
    "        }\n",
    "    },\n",
    "    \n",
    "    \"decision_tree\":{\n",
    "        \"model\": DecisionTreeClassifier(random_state=0),\n",
    "        \"params\":{\n",
    "            'criterion':[\"entropy\",\"gini\"],\n",
    "            \"max_depth\":[5,8,9]\n",
    "        }\n",
    "    },\n",
    "    \n",
    "    \"random_forest\":{\n",
    "        \"model\": RandomForestClassifier(random_state=0),\n",
    "        \"params\":{\n",
    "            \"n_estimators\":[1,5,10],\n",
    "            \"max_depth\":[5,8,9,10]\n",
    "        }\n",
    "    },\n",
    "    \"naive_bayes\":{\n",
    "        \"model\": GaussianNB(),\n",
    "        \"params\":{}\n",
    "    },\n",
    "    \n",
    "    'logistic_regression' : {\n",
    "        'model' : LogisticRegression(solver='liblinear',multi_class = 'auto'),\n",
    "        'params': {\n",
    "            \"C\" : [1,5,10]\n",
    "        }\n",
    "    },\n",
    "    \n",
    "    \"adaboost\":{\n",
    "        \"model\": AdaBoostClassifier(random_state=0),\n",
    "        \"params\":{\n",
    "            \"base_estimator\": [svc, etc, rfc],\n",
    "            \"n_estimators\":[5,10, 15],\n",
    "            \"learning_rate\":[0.5,1.0,0.8, 0.1]\n",
    "        }\n",
    "    },\n",
    "    \n",
    "    \"gradient_boosting\":{\n",
    "        \"model\": GradientBoostingClassifier(random_state=0),\n",
    "        \"params\":{\n",
    "            \"max_depth\": [5, 7, 10],\n",
    "            \"n_estimators\":[5,10, 15],\n",
    "            \"learning_rate\":[0.5,1.0,0.8, 0.1]\n",
    "        }\n",
    "    }\n",
    "    \n",
    "}"
   ]
  },
  {
   "cell_type": "code",
   "execution_count": 57,
   "metadata": {
    "execution": {
     "iopub.execute_input": "2021-10-04T07:32:47.784441Z",
     "iopub.status.busy": "2021-10-04T07:32:47.783421Z",
     "iopub.status.idle": "2021-10-04T07:37:07.108357Z",
     "shell.execute_reply": "2021-10-04T07:37:07.107576Z",
     "shell.execute_reply.started": "2021-10-04T07:08:08.354592Z"
    },
    "papermill": {
     "duration": 259.408947,
     "end_time": "2021-10-04T07:37:07.108556",
     "exception": false,
     "start_time": "2021-10-04T07:32:47.699609",
     "status": "completed"
    },
    "tags": []
   },
   "outputs": [],
   "source": [
    "score=[]\n",
    "for model_name,mp in model_params.items():\n",
    "    clf = GridSearchCV(mp[\"model\"],mp[\"params\"],cv=4,return_train_score=False)\n",
    "    clf.fit(X_train,y_train)\n",
    "    score.append({\n",
    "        \"Model\" : model_name,\n",
    "        \"Best_Score\": clf.best_score_,\n",
    "        \"Best_Params\": clf.best_params_\n",
    "    })"
   ]
  },
  {
   "cell_type": "code",
   "execution_count": 58,
   "metadata": {
    "execution": {
     "iopub.execute_input": "2021-10-04T07:37:07.273632Z",
     "iopub.status.busy": "2021-10-04T07:37:07.272668Z",
     "iopub.status.idle": "2021-10-04T07:37:07.278626Z",
     "shell.execute_reply": "2021-10-04T07:37:07.279111Z",
     "shell.execute_reply.started": "2021-10-04T07:12:27.282470Z"
    },
    "papermill": {
     "duration": 0.088893,
     "end_time": "2021-10-04T07:37:07.279319",
     "exception": false,
     "start_time": "2021-10-04T07:37:07.190426",
     "status": "completed"
    },
    "tags": []
   },
   "outputs": [],
   "source": [
    "result = pd.DataFrame(score,columns=[\"Model\",\"Best_Score\",\"Best_Params\"])"
   ]
  },
  {
   "cell_type": "code",
   "execution_count": 59,
   "metadata": {
    "execution": {
     "iopub.execute_input": "2021-10-04T07:37:07.442069Z",
     "iopub.status.busy": "2021-10-04T07:37:07.441089Z",
     "iopub.status.idle": "2021-10-04T07:37:07.460054Z",
     "shell.execute_reply": "2021-10-04T07:37:07.460551Z",
     "shell.execute_reply.started": "2021-10-04T07:12:27.289055Z"
    },
    "papermill": {
     "duration": 0.102,
     "end_time": "2021-10-04T07:37:07.460749",
     "exception": false,
     "start_time": "2021-10-04T07:37:07.358749",
     "status": "completed"
    },
    "tags": []
   },
   "outputs": [
    {
     "data": {
      "text/html": [
       "<div>\n",
       "<style scoped>\n",
       "    .dataframe tbody tr th:only-of-type {\n",
       "        vertical-align: middle;\n",
       "    }\n",
       "\n",
       "    .dataframe tbody tr th {\n",
       "        vertical-align: top;\n",
       "    }\n",
       "\n",
       "    .dataframe thead th {\n",
       "        text-align: right;\n",
       "    }\n",
       "</style>\n",
       "<table border=\"1\" class=\"dataframe\">\n",
       "  <thead>\n",
       "    <tr style=\"text-align: right;\">\n",
       "      <th></th>\n",
       "      <th>Model</th>\n",
       "      <th>Best_Score</th>\n",
       "      <th>Best_Params</th>\n",
       "    </tr>\n",
       "  </thead>\n",
       "  <tbody>\n",
       "    <tr>\n",
       "      <th>0</th>\n",
       "      <td>svm</td>\n",
       "      <td>0.948148</td>\n",
       "      <td>{'C': 1, 'kernel': 'rbf'}</td>\n",
       "    </tr>\n",
       "    <tr>\n",
       "      <th>1</th>\n",
       "      <td>decision_tree</td>\n",
       "      <td>0.943827</td>\n",
       "      <td>{'criterion': 'gini', 'max_depth': 5}</td>\n",
       "    </tr>\n",
       "    <tr>\n",
       "      <th>2</th>\n",
       "      <td>random_forest</td>\n",
       "      <td>0.952469</td>\n",
       "      <td>{'max_depth': 10, 'n_estimators': 10}</td>\n",
       "    </tr>\n",
       "    <tr>\n",
       "      <th>3</th>\n",
       "      <td>naive_bayes</td>\n",
       "      <td>0.944444</td>\n",
       "      <td>{}</td>\n",
       "    </tr>\n",
       "    <tr>\n",
       "      <th>4</th>\n",
       "      <td>logistic_regression</td>\n",
       "      <td>0.948148</td>\n",
       "      <td>{'C': 1}</td>\n",
       "    </tr>\n",
       "    <tr>\n",
       "      <th>5</th>\n",
       "      <td>adaboost</td>\n",
       "      <td>0.954938</td>\n",
       "      <td>{'base_estimator': ExtraTreesClassifier(n_esti...</td>\n",
       "    </tr>\n",
       "    <tr>\n",
       "      <th>6</th>\n",
       "      <td>gradient_boosting</td>\n",
       "      <td>0.945062</td>\n",
       "      <td>{'learning_rate': 0.1, 'max_depth': 5, 'n_esti...</td>\n",
       "    </tr>\n",
       "  </tbody>\n",
       "</table>\n",
       "</div>"
      ],
      "text/plain": [
       "                 Model  Best_Score  \\\n",
       "0                  svm    0.948148   \n",
       "1        decision_tree    0.943827   \n",
       "2        random_forest    0.952469   \n",
       "3          naive_bayes    0.944444   \n",
       "4  logistic_regression    0.948148   \n",
       "5             adaboost    0.954938   \n",
       "6    gradient_boosting    0.945062   \n",
       "\n",
       "                                         Best_Params  \n",
       "0                          {'C': 1, 'kernel': 'rbf'}  \n",
       "1              {'criterion': 'gini', 'max_depth': 5}  \n",
       "2              {'max_depth': 10, 'n_estimators': 10}  \n",
       "3                                                 {}  \n",
       "4                                           {'C': 1}  \n",
       "5  {'base_estimator': ExtraTreesClassifier(n_esti...  \n",
       "6  {'learning_rate': 0.1, 'max_depth': 5, 'n_esti...  "
      ]
     },
     "execution_count": 59,
     "metadata": {},
     "output_type": "execute_result"
    }
   ],
   "source": [
    "result"
   ]
  },
  {
   "cell_type": "code",
   "execution_count": 60,
   "metadata": {
    "execution": {
     "iopub.execute_input": "2021-10-04T07:37:07.626351Z",
     "iopub.status.busy": "2021-10-04T07:37:07.625408Z",
     "iopub.status.idle": "2021-10-04T07:37:07.631370Z",
     "shell.execute_reply": "2021-10-04T07:37:07.631833Z",
     "shell.execute_reply.started": "2021-10-04T07:20:14.010211Z"
    },
    "papermill": {
     "duration": 0.091444,
     "end_time": "2021-10-04T07:37:07.632042",
     "exception": false,
     "start_time": "2021-10-04T07:37:07.540598",
     "status": "completed"
    },
    "tags": []
   },
   "outputs": [],
   "source": [
    "best_ada_params = result.loc[5, ['Best_Params']][0]"
   ]
  },
  {
   "cell_type": "code",
   "execution_count": 61,
   "metadata": {
    "execution": {
     "iopub.execute_input": "2021-10-04T07:37:07.798426Z",
     "iopub.status.busy": "2021-10-04T07:37:07.797457Z",
     "iopub.status.idle": "2021-10-04T07:37:07.805710Z",
     "shell.execute_reply": "2021-10-04T07:37:07.805075Z",
     "shell.execute_reply.started": "2021-10-04T07:20:17.009583Z"
    },
    "papermill": {
     "duration": 0.092946,
     "end_time": "2021-10-04T07:37:07.805899",
     "exception": false,
     "start_time": "2021-10-04T07:37:07.712953",
     "status": "completed"
    },
    "tags": []
   },
   "outputs": [
    {
     "data": {
      "text/plain": [
       "{'base_estimator': ExtraTreesClassifier(n_estimators=10, random_state=0),\n",
       " 'learning_rate': 0.5,\n",
       " 'n_estimators': 5}"
      ]
     },
     "execution_count": 61,
     "metadata": {},
     "output_type": "execute_result"
    }
   ],
   "source": [
    "best_ada_params   # best parameters for adaboost"
   ]
  },
  {
   "cell_type": "code",
   "execution_count": 62,
   "metadata": {
    "execution": {
     "iopub.execute_input": "2021-10-04T07:37:07.975504Z",
     "iopub.status.busy": "2021-10-04T07:37:07.974751Z",
     "iopub.status.idle": "2021-10-04T07:37:08.405135Z",
     "shell.execute_reply": "2021-10-04T07:37:08.404397Z",
     "shell.execute_reply.started": "2021-10-04T07:28:33.268677Z"
    },
    "papermill": {
     "duration": 0.518736,
     "end_time": "2021-10-04T07:37:08.405308",
     "exception": false,
     "start_time": "2021-10-04T07:37:07.886572",
     "status": "completed"
    },
    "tags": []
   },
   "outputs": [],
   "source": [
    "from sklearn.model_selection import cross_val_score    # cross validating \n",
    "clf_rf = RandomForestClassifier(max_depth= 10, n_estimators=10, random_state=1)\n",
    "scores = cross_val_score(clf_rf,X_train,y_train,cv=8,scoring=\"accuracy\")"
   ]
  },
  {
   "cell_type": "code",
   "execution_count": 63,
   "metadata": {
    "execution": {
     "iopub.execute_input": "2021-10-04T07:37:08.573392Z",
     "iopub.status.busy": "2021-10-04T07:37:08.572622Z",
     "iopub.status.idle": "2021-10-04T07:37:08.575640Z",
     "shell.execute_reply": "2021-10-04T07:37:08.576129Z",
     "shell.execute_reply.started": "2021-10-04T07:28:36.088783Z"
    },
    "papermill": {
     "duration": 0.090035,
     "end_time": "2021-10-04T07:37:08.576348",
     "exception": false,
     "start_time": "2021-10-04T07:37:08.486313",
     "status": "completed"
    },
    "tags": []
   },
   "outputs": [
    {
     "data": {
      "text/plain": [
       "94.876969224016"
      ]
     },
     "execution_count": 63,
     "metadata": {},
     "output_type": "execute_result"
    }
   ],
   "source": [
    "scores.mean()*100   # average score by random forest "
   ]
  },
  {
   "cell_type": "code",
   "execution_count": 64,
   "metadata": {
    "execution": {
     "iopub.execute_input": "2021-10-04T07:37:08.745984Z",
     "iopub.status.busy": "2021-10-04T07:37:08.745196Z",
     "iopub.status.idle": "2021-10-04T07:37:08.807346Z",
     "shell.execute_reply": "2021-10-04T07:37:08.806649Z",
     "shell.execute_reply.started": "2021-10-04T07:28:42.909530Z"
    },
    "papermill": {
     "duration": 0.147995,
     "end_time": "2021-10-04T07:37:08.807530",
     "exception": false,
     "start_time": "2021-10-04T07:37:08.659535",
     "status": "completed"
    },
    "tags": []
   },
   "outputs": [],
   "source": [
    "clf_rf.fit(X_train,y_train)\n",
    "y_pred = clf_rf.predict(X_test)"
   ]
  },
  {
   "cell_type": "code",
   "execution_count": 65,
   "metadata": {
    "execution": {
     "iopub.execute_input": "2021-10-04T07:37:08.979475Z",
     "iopub.status.busy": "2021-10-04T07:37:08.978319Z",
     "iopub.status.idle": "2021-10-04T07:37:08.981762Z",
     "shell.execute_reply": "2021-10-04T07:37:08.982277Z",
     "shell.execute_reply.started": "2021-10-04T07:28:52.069633Z"
    },
    "papermill": {
     "duration": 0.093271,
     "end_time": "2021-10-04T07:37:08.982494",
     "exception": false,
     "start_time": "2021-10-04T07:37:08.889223",
     "status": "completed"
    },
    "tags": []
   },
   "outputs": [
    {
     "name": "stdout",
     "output_type": "stream",
     "text": [
      "93.33333333333333\n"
     ]
    }
   ],
   "source": [
    "from sklearn.metrics import accuracy_score  # accuracy score by random forest\n",
    "acc = accuracy_score(y_test,y_pred)       \n",
    "print(acc*100)"
   ]
  },
  {
   "cell_type": "code",
   "execution_count": 66,
   "metadata": {
    "execution": {
     "iopub.execute_input": "2021-10-04T07:37:09.153434Z",
     "iopub.status.busy": "2021-10-04T07:37:09.152685Z",
     "iopub.status.idle": "2021-10-04T07:37:09.307419Z",
     "shell.execute_reply": "2021-10-04T07:37:09.306652Z",
     "shell.execute_reply.started": "2021-10-04T07:26:51.269545Z"
    },
    "papermill": {
     "duration": 0.243094,
     "end_time": "2021-10-04T07:37:09.307593",
     "exception": false,
     "start_time": "2021-10-04T07:37:09.064499",
     "status": "completed"
    },
    "tags": []
   },
   "outputs": [],
   "source": [
    "clf_ada = AdaBoostClassifier(base_estimator = etc, learning_rate=0.5, n_estimators = 5, random_state=1)\n",
    "scores_ada = cross_val_score(clf_ada,X_train,y_train,cv=5,scoring=\"accuracy\")"
   ]
  },
  {
   "cell_type": "code",
   "execution_count": 67,
   "metadata": {
    "execution": {
     "iopub.execute_input": "2021-10-04T07:37:09.476600Z",
     "iopub.status.busy": "2021-10-04T07:37:09.475529Z",
     "iopub.status.idle": "2021-10-04T07:37:09.480308Z",
     "shell.execute_reply": "2021-10-04T07:37:09.479672Z",
     "shell.execute_reply.started": "2021-10-04T07:26:54.848700Z"
    },
    "papermill": {
     "duration": 0.091312,
     "end_time": "2021-10-04T07:37:09.480465",
     "exception": false,
     "start_time": "2021-10-04T07:37:09.389153",
     "status": "completed"
    },
    "tags": []
   },
   "outputs": [
    {
     "data": {
      "text/plain": [
       "95.4320987654321"
      ]
     },
     "execution_count": 67,
     "metadata": {},
     "output_type": "execute_result"
    }
   ],
   "source": [
    "scores_ada.mean()*100    # average score by adaboost"
   ]
  },
  {
   "cell_type": "code",
   "execution_count": 68,
   "metadata": {
    "execution": {
     "iopub.execute_input": "2021-10-04T07:37:09.653457Z",
     "iopub.status.busy": "2021-10-04T07:37:09.652400Z",
     "iopub.status.idle": "2021-10-04T07:37:09.687632Z",
     "shell.execute_reply": "2021-10-04T07:37:09.688158Z",
     "shell.execute_reply.started": "2021-10-04T07:27:19.268815Z"
    },
    "papermill": {
     "duration": 0.126376,
     "end_time": "2021-10-04T07:37:09.688387",
     "exception": false,
     "start_time": "2021-10-04T07:37:09.562011",
     "status": "completed"
    },
    "tags": []
   },
   "outputs": [],
   "source": [
    "clf_ada.fit(X_train,y_train)\n",
    "ada_y_pred = clf_ada.predict(X_test)"
   ]
  },
  {
   "cell_type": "code",
   "execution_count": 69,
   "metadata": {
    "execution": {
     "iopub.execute_input": "2021-10-04T07:37:09.858646Z",
     "iopub.status.busy": "2021-10-04T07:37:09.857841Z",
     "iopub.status.idle": "2021-10-04T07:37:09.862097Z",
     "shell.execute_reply": "2021-10-04T07:37:09.862644Z",
     "shell.execute_reply.started": "2021-10-04T07:27:22.788672Z"
    },
    "papermill": {
     "duration": 0.092857,
     "end_time": "2021-10-04T07:37:09.862881",
     "exception": false,
     "start_time": "2021-10-04T07:37:09.770024",
     "status": "completed"
    },
    "tags": []
   },
   "outputs": [
    {
     "name": "stdout",
     "output_type": "stream",
     "text": [
      "93.58024691358024\n"
     ]
    }
   ],
   "source": [
    "ada_acc = accuracy_score(y_test,ada_y_pred)  # accuracy score by adaboost\n",
    "print(ada_acc*100)"
   ]
  }
 ],
 "metadata": {
  "kernelspec": {
   "display_name": "Python 3",
   "language": "python",
   "name": "python3"
  },
  "language_info": {
   "codemirror_mode": {
    "name": "ipython",
    "version": 3
   },
   "file_extension": ".py",
   "mimetype": "text/x-python",
   "name": "python",
   "nbconvert_exporter": "python",
   "pygments_lexer": "ipython3",
   "version": "3.7.9"
  },
  "papermill": {
   "default_parameters": {},
   "duration": 286.625908,
   "end_time": "2021-10-04T07:37:11.057531",
   "environment_variables": {},
   "exception": null,
   "input_path": "__notebook__.ipynb",
   "output_path": "__notebook__.ipynb",
   "parameters": {},
   "start_time": "2021-10-04T07:32:24.431623",
   "version": "2.2.2"
  }
 },
 "nbformat": 4,
 "nbformat_minor": 4
}
