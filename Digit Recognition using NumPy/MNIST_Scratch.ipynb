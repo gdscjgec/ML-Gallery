{
 "cells": [
  {
   "cell_type": "code",
   "execution_count": 3,
   "metadata": {},
   "outputs": [
    {
     "name": "stdout",
     "output_type": "stream",
     "text": [
      "Populating the interactive namespace from numpy and matplotlib\n"
     ]
    }
   ],
   "source": [
    "%pylab inline\n",
    "import numpy as np\n",
    "from tqdm import trange\n",
    "np.set_printoptions(suppress=True)\n",
    "\n",
    "import matplotlib.pyplot as plt\n",
    "\n",
    "import os\n",
    "import requests\n",
    "import hashlib\n",
    "import gzip"
   ]
  },
  {
   "cell_type": "code",
   "execution_count": 8,
   "metadata": {},
   "outputs": [],
   "source": [
    "# url = http://yann.lecun.com/exdb/mnist/\n",
    "# load data (Downloaded from the above link)\n",
    "def load(fp):\n",
    "    if os.path.isfile(fp):\n",
    "        with open(fp, 'rb') as f:\n",
    "            data = f.read()\n",
    "    else:\n",
    "        RuntimeError(\"Please Download the File\")\n",
    "    \n",
    "    return np.frombuffer(gzip.decompress(data), dtype=np.uint8).copy()\n",
    "\n",
    "X_train = load('train-images-idx3-ubyte.gz')[0x10:].reshape((-1, 28, 28))\n",
    "X_test = load('t10k-images-idx3-ubyte.gz')[0x10:].reshape((-1, 28, 28))\n",
    "y_train = load('train-labels-idx1-ubyte.gz')[8:]\n",
    "y_test = load('t10k-labels-idx1-ubyte.gz')[8:]"
   ]
  },
  {
   "cell_type": "code",
   "execution_count": 14,
   "metadata": {},
   "outputs": [
    {
     "data": {
      "text/plain": [
       "<matplotlib.image.AxesImage at 0x1ed6f12f610>"
      ]
     },
     "execution_count": 14,
     "metadata": {},
     "output_type": "execute_result"
    },
    {
     "data": {
      "image/png": "[encoded data removed]",
      "text/plain": [
       "<Figure size 432x288 with 1 Axes>"
      ]
     },
     "metadata": {
      "needs_background": "light"
     },
     "output_type": "display_data"
    }
   ],
   "source": [
    "# Check \n",
    "plt.imshow(X_train[0])"
   ]
  },
  {
   "cell_type": "code",
   "execution_count": 10,
   "metadata": {},
   "outputs": [],
   "source": [
    "# For Comparision using Torch\n",
    "import torch\n",
    "import torch.nn as nn\n",
    "import torch.nn.functional as F\n",
    "torch.set_printoptions(sci_mode=False)\n",
    "\n",
    "class Net(nn.Module):\n",
    "    def __init__(self):\n",
    "        super(Net, self).__init__()\n",
    "        self.l1 = nn.Linear(784, 128, bias=False)\n",
    "        self.l2 = nn.Linear(128, 10, bias=False)\n",
    "        self.softmax = nn.LogSoftmax(dim=1)\n",
    "    \n",
    "    # Forward Pass\n",
    "    def forward(self, x):\n",
    "        x = F.relu(self.l1(x))\n",
    "        x = self.l2(x)\n",
    "        x = self.softmax(x)\n",
    "        return x"
   ]
  },
  {
   "cell_type": "markdown",
   "metadata": {},
   "source": [
    "### Train Net (PyTorch)\n",
    "\n",
    "Using nn.NLLLoss as a Loss_Fn\n",
    "1. <b>NLLLoss</b>\n",
    "\n",
    "    The negative log likelihood loss. It is useful to train a classification problem with C classes.\n",
    "\n",
    "    If provided, the optional argument weight should be a 1D Tensor assigning weight to each of the classes. This is particularly useful when you have an unbalanced training set.\n",
    "    \n",
    "Using Stochastic Gradient Descent \n",
    "\n",
    "<b>SGD</b>\n",
    "* Implements stochastic gradient descent (optionally with momentum)."
   ]
  },
  {
   "cell_type": "code",
   "execution_count": 31,
   "metadata": {},
   "outputs": [
    {
     "name": "stderr",
     "output_type": "stream",
     "text": [
      "loss 0.20 accuracy 0.93: 100%|██████████████████████| 2000/2000 [00:13<00:00, 151.05it/s]\n"
     ]
    },
    {
     "data": {
      "text/plain": [
       "[<matplotlib.lines.Line2D at 0x1ed6f2d3610>]"
      ]
     },
     "execution_count": 31,
     "metadata": {},
     "output_type": "execute_result"
    },
    {
     "data": {
      "image/png": "[encoded data removed]",
      "text/plain": [
       "<Figure size 432x288 with 1 Axes>"
      ]
     },
     "metadata": {
      "needs_background": "light"
     },
     "output_type": "display_data"
    }
   ],
   "source": [
    "# train\n",
    "model = Net()\n",
    "\n",
    "# ******** I didn't know either **********************\n",
    "# protip: if you like accuracy like 96 not like 93, next time through the notebook, consider\n",
    "# CHAD MODE WEIGHT INIT WITH NUMPY\n",
    "# instead of virgin torch init mode\n",
    "# TODO: why is torch linear init bad?\n",
    "# ****************************************************\n",
    "\n",
    "loss_fn = nn.NLLLoss(reduction='none')\n",
    "optim = torch.optim.SGD(model.parameters(), lr=0.001, momentum=0)\n",
    "BS = 512 # Batch Size\n",
    "losses, accuracies = [], []\n",
    "\n",
    "for i in (t := trange(2000)):\n",
    "    samp = np.random.randint(0, X_train.shape[0], size=(BS))\n",
    "    X = torch.tensor(X_train[samp].reshape((-1, 28*28))).float()\n",
    "    Y = torch.tensor(y_train[samp]).long()\n",
    "    model.zero_grad() # Set grad to zero for backpropogation\n",
    "    out = model(X)\n",
    "    cat = torch.argmax(out, dim=1)\n",
    "    accuracy = (cat == Y).float().mean()\n",
    "    loss = loss_fn(out, Y)\n",
    "    loss = loss.mean()\n",
    "    loss.backward() # backward pass\n",
    "    optim.step()\n",
    "    \n",
    "    loss, accuracy = loss.item(), accuracy.item()\n",
    "    losses.append(loss)\n",
    "    accuracies.append(accuracy)\n",
    "    t.set_description('loss %.2f accuracy %.2f'% (loss, accuracy))\n",
    "\n",
    "plt.ylim(-0.1, 1.1)\n",
    "plt.plot(losses)\n",
    "plt.plot(accuracies)"
   ]
  },
  {
   "cell_type": "code",
   "execution_count": 32,
   "metadata": {},
   "outputs": [
    {
     "data": {
      "text/plain": [
       "0.9412"
      ]
     },
     "execution_count": 32,
     "metadata": {},
     "output_type": "execute_result"
    }
   ],
   "source": [
    "# By Hit and trial method on BS and trange differnet accuracies are coming\n",
    "\n",
    "# eval\n",
    "y_test_preds = torch.argmax(model(torch.tensor(X_test.reshape((-1, 28*28))).float()), dim=1).numpy()\n",
    "(y_test == y_test_preds).mean()"
   ]
  },
  {
   "cell_type": "markdown",
   "metadata": {},
   "source": [
    "### Compute the gradients in torch"
   ]
  },
  {
   "cell_type": "code",
   "execution_count": 33,
   "metadata": {},
   "outputs": [
    {
     "data": {
      "text/plain": [
       "<matplotlib.image.AxesImage at 0x1ed6f1fd700>"
      ]
     },
     "execution_count": 33,
     "metadata": {},
     "output_type": "execute_result"
    },
    {
     "data": {
      "image/png": "[encoded data removed]",
      "text/plain": [
       "<Figure size 432x288 with 1 Axes>"
      ]
     },
     "metadata": {
      "needs_background": "light"
     },
     "output_type": "display_data"
    },
    {
     "data": {
      "image/png": "[encoded data removed]",
      "text/plain": [
       "<Figure size 720x720 with 1 Axes>"
      ]
     },
     "metadata": {
      "needs_background": "light"
     },
     "output_type": "display_data"
    }
   ],
   "source": [
    "samp = [0, 1, 2, 3]\n",
    "model.zero_grad() # Set gradients to zero\n",
    "out = model(torch.tensor(X_test[samp].reshape((-1, 28*28))).float())\n",
    "out.retain_grad()\n",
    "loss = loss_fn(out, torch.tensor(y_test[samp]).long()).mean()\n",
    "loss.backward()\n",
    "\n",
    "plt.imshow(model.l1.weight.grad)\n",
    "plt.figure(figsize=(10, 10))\n",
    "plt.imshow(model.l1.weight.grad)"
   ]
  },
  {
   "cell_type": "markdown",
   "metadata": {},
   "source": [
    "# For numpy"
   ]
  },
  {
   "cell_type": "code",
   "execution_count": 34,
   "metadata": {},
   "outputs": [
    {
     "data": {
      "text/plain": [
       "0.9412"
      ]
     },
     "execution_count": 34,
     "metadata": {},
     "output_type": "execute_result"
    }
   ],
   "source": [
    "# Copy weights from torch\n",
    "l1 = model.l1.weight.detach().numpy().T # T -> Transpose\n",
    "l2 = model.l2.weight.detach().numpy().T\n",
    "\n",
    "\n",
    "# Forward Pass (Numpy)\n",
    "def forward(x):\n",
    "    x = x.dot(l1)\n",
    "    x = np.maximum(x, 0) # relu\n",
    "    x = x.dot(l2)\n",
    "    return x\n",
    "\n",
    "def np_eval():\n",
    "    y_test_preds_out = forward(X_test.reshape((-1, 28*28)))\n",
    "    y_test_preds = np.argmax(y_test_preds_out, axis=1)\n",
    "    return (y_test == y_test_preds).mean()\n",
    "\n",
    "\n",
    "np_eval()"
   ]
  },
  {
   "cell_type": "code",
   "execution_count": 36,
   "metadata": {},
   "outputs": [],
   "source": [
    "# Write forward and backward pass for numpy\n",
    "\n",
    "def logsumexp(x):\n",
    "    # normalization trick\n",
    "    # http://gregorygundersen.com/blog/2020/02/09/log-sum-exp/\n",
    "    c = x.max(axis=1)\n",
    "    return c + np.log(np.exp(x - c.reshape((-1, 1))).sum(axis=1))\n",
    "\n",
    "def forward_backward(x, y):\n",
    "    # training\n",
    "    out = np.zeros((len(y), 10), np.float32)\n",
    "    out[range(out.shape[0]), y] = 1\n",
    "    \n",
    "    # Forward Pass\n",
    "    x_l1 = x.dot(l1)\n",
    "    x_relu = np.maximum(x_l1, 0)\n",
    "    x_l2 = x_relu.dot(l2)\n",
    "    x_lsm = x_l2 - logsumexp(x_l2).reshape((-1, 1)) # lsm -> logsoftmax\n",
    "    x_loss = (-out * x_lsm).mean(axis=1)\n",
    "    \n",
    "    # Backward pass\n",
    "    d_out = -out / len(y)\n",
    "    \n",
    "    # Derivative of logsoftmax\n",
    "    # Generic LogSoftMax Function\n",
    "    '''\n",
    "    lsm(xi) = log(exp(xi) / Sum(exp(xj)))\n",
    "    '''\n",
    "    \n",
    "    dx_lsm = d_out - np.exp(x_lsm) * d_out.sum(axis=1).reshape((-1, 1))\n",
    "    \n",
    "    # Derivative of l2\n",
    "    d_l2 = x_relu.T.dot(dx_lsm)\n",
    "    dx_relu = dx_lsm.dot(l2.T)\n",
    "    \n",
    "    # Derivative of relu\n",
    "    dx_l1 = (x_relu > 0).astype(np.float32) * dx_relu\n",
    "    \n",
    "    # Derivative of l1\n",
    "    d_l1 = x.T.dot(dx_l1)\n",
    "    \n",
    "    return x_loss, x_l2, d_l1, d_l2\n",
    "\n",
    "samp = [0, 1, 2, 3]\n",
    "x_loss, x_l2, d_l1, d_l2 = forward_backward(X_test[samp].reshape((-1, 28*28)), y_test[samp])"
   ]
  },
  {
   "cell_type": "code",
   "execution_count": 41,
   "metadata": {},
   "outputs": [
    {
     "data": {
      "text/plain": [
       "<matplotlib.image.AxesImage at 0x1ed6e7353a0>"
      ]
     },
     "execution_count": 41,
     "metadata": {},
     "output_type": "execute_result"
    },
    {
     "data": {
      "image/png": "[encoded data removed]",
      "text/plain": [
       "<Figure size 432x288 with 1 Axes>"
      ]
     },
     "metadata": {
      "needs_background": "light"
     },
     "output_type": "display_data"
    },
    {
     "data": {
      "image/png": "[encoded data removed]",
      "text/plain": [
       "<Figure size 720x720 with 1 Axes>"
      ]
     },
     "metadata": {
      "needs_background": "light"
     },
     "output_type": "display_data"
    }
   ],
   "source": [
    "plt.imshow(d_l1.T)\n",
    "plt.figure(figsize=(10, 10))\n",
    "plt.imshow(d_l2.T)"
   ]
  },
  {
   "cell_type": "code",
   "execution_count": 44,
   "metadata": {},
   "outputs": [
    {
     "name": "stderr",
     "output_type": "stream",
     "text": [
      "loss 0.01 accuracy 0.98: 100%|██████████████████████| 1000/1000 [00:02<00:00, 412.03it/s]\n"
     ]
    },
    {
     "data": {
      "text/plain": [
       "[<matplotlib.lines.Line2D at 0x1ed6f1b5c40>]"
      ]
     },
     "execution_count": 44,
     "metadata": {},
     "output_type": "execute_result"
    },
    {
     "data": {
      "image/png": "[encoded data removed]",
      "text/plain": [
       "<Figure size 432x288 with 1 Axes>"
      ]
     },
     "metadata": {
      "needs_background": "light"
     },
     "output_type": "display_data"
    }
   ],
   "source": [
    "# Train with Numpy\n",
    "def layer_init(m, h):\n",
    "    ret = np.random.uniform(-1., 1., size=(m, h)) / np.sqrt(m*h)\n",
    "    return ret.astype(np.float32) # Convert layer's dtype \n",
    "\n",
    "# init\n",
    "np.random.seed(1337) # Makes random numbers predictable\n",
    "l1 = layer_init(784, 128)\n",
    "l2 = layer_init(128, 10)\n",
    "\n",
    "lr = 0.001 # learning rate\n",
    "BS = 128\n",
    "losses, accuracies = [], []\n",
    "for i in (t := trange(1000)):\n",
    "    samp = np.random.randint(0, X_train.shape[0], size=(BS))\n",
    "    X = X_train[samp].reshape((-1, 28*28))\n",
    "    Y = y_train[samp]\n",
    "    \n",
    "    x_loss, x_l2, d_l1, d_l2 = forward_backward(X, Y) # Forward and backward pass\n",
    "    \n",
    "    cat = np.argmax(x_l2, axis=1)\n",
    "    accuracy = (cat == Y).mean()\n",
    "    \n",
    "    # SGD\n",
    "    l1 -= lr*d_l1\n",
    "    l2 -= lr*d_l2\n",
    "    \n",
    "    loss = x_loss.mean()\n",
    "    losses.append(loss)\n",
    "    accuracies.append(accuracy)\n",
    "    t.set_description('loss %.2f accuracy %.2f' % (loss, accuracy))\n",
    "\n",
    "plt.ylim(-0.1, 1.1)\n",
    "plt.plot(losses)\n",
    "plt.plot(accuracies)"
   ]
  },
  {
   "cell_type": "code",
   "execution_count": 45,
   "metadata": {},
   "outputs": [
    {
     "data": {
      "text/plain": [
       "0.9635"
      ]
     },
     "execution_count": 45,
     "metadata": {},
     "output_type": "execute_result"
    }
   ],
   "source": [
    "# Evaluate \n",
    "np_eval()\n",
    "# np's accuracy is higher than torch's accuracy"
   ]
  },
  {
   "cell_type": "code",
   "execution_count": 79,
   "metadata": {},
   "outputs": [
    {
     "data": {
      "text/plain": [
       "<matplotlib.image.AxesImage at 0x1ed016180a0>"
      ]
     },
     "execution_count": 79,
     "metadata": {},
     "output_type": "execute_result"
    },
    {
     "data": {
      "image/png": "[encoded data removed]",
      "text/plain": [
       "<Figure size 432x288 with 1 Axes>"
      ]
     },
     "metadata": {
      "needs_background": "light"
     },
     "output_type": "display_data"
    }
   ],
   "source": [
    "# Test it\n",
    "m = [[0,0,0,0,0,0,0],\n",
    "     [0,0,1,0,1,0,0],\n",
    "     [0,0,1,0,1,0,0],\n",
    "     [0,0,1,1,1,1,0],\n",
    "     [0,0,0,0,1,0,0],\n",
    "     [0,0,0,0,1,0,0],\n",
    "     [0,0,0,0,0,0,0]]\n",
    "\n",
    "#m = X_test[0].reshape(28, 28)\n",
    "# resize to 28x28\n",
    "m = np.concatenate([np.concatenate([[x]*4 for x in y]*4) for y in m])\n",
    "#plt.imshow(m.reshape)\n",
    "plt.imshow(m.reshape((28, 28)))"
   ]
  },
  {
   "cell_type": "code",
   "execution_count": 80,
   "metadata": {},
   "outputs": [
    {
     "data": {
      "text/plain": [
       "4"
      ]
     },
     "execution_count": 80,
     "metadata": {},
     "output_type": "execute_result"
    }
   ],
   "source": [
    "# Check\n",
    "x = m.reshape(1, -1).dot(l1)\n",
    "x = np.maximum(x, 0) # relu\n",
    "x = x.dot(l2)\n",
    "\n",
    "np.argmax(x)"
   ]
  },
  {
   "cell_type": "code",
   "execution_count": 82,
   "metadata": {},
   "outputs": [
    {
     "data": {
      "text/plain": [
       "<matplotlib.image.AxesImage at 0x1ed0159fc40>"
      ]
     },
     "execution_count": 82,
     "metadata": {},
     "output_type": "execute_result"
    },
    {
     "data": {
      "image/png": "[encoded data removed]",
      "text/plain": [
       "<Figure size 432x288 with 1 Axes>"
      ]
     },
     "metadata": {
      "needs_background": "light"
     },
     "output_type": "display_data"
    }
   ],
   "source": [
    "m1 =[[0,1,1,1,1,1,0],\n",
    "     [0,0,0,0,0,1,0],\n",
    "     [0,0,0,0,0,1,0],\n",
    "     [0,0,1,1,1,1,0],\n",
    "     [0,0,0,0,0,1,0],\n",
    "     [0,0,0,0,0,1,0],\n",
    "     [0,1,1,1,1,1,0]]\n",
    "m1 = np.concatenate([np.concatenate([[x]*4 for x in y]*4) for y in m1])\n",
    "\n",
    "plt.imshow(m1.reshape((28, 28)))"
   ]
  },
  {
   "cell_type": "code",
   "execution_count": 83,
   "metadata": {},
   "outputs": [
    {
     "data": {
      "text/plain": [
       "3"
      ]
     },
     "execution_count": 83,
     "metadata": {},
     "output_type": "execute_result"
    }
   ],
   "source": [
    "x = m1.reshape(1, -1).dot(l1)\n",
    "x = np.maximum(x, 0) # relu\n",
    "x = x.dot(l2)\n",
    "\n",
    "np.argmax(x)"
   ]
  },
  {
   "cell_type": "code",
   "execution_count": null,
   "metadata": {},
   "outputs": [],
   "source": []
  }
 ],
 "metadata": {
  "kernelspec": {
   "display_name": "ML",
   "language": "python",
   "name": "ml"
  },
  "language_info": {
   "codemirror_mode": {
    "name": "ipython",
    "version": 3
   },
   "file_extension": ".py",
   "mimetype": "text/x-python",
   "name": "python",
   "nbconvert_exporter": "python",
   "pygments_lexer": "ipython3",
   "version": "3.8.5"
  }
 },
 "nbformat": 4,
 "nbformat_minor": 4
}
